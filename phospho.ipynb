{
 "cells": [
  {
   "cell_type": "code",
   "execution_count": null,
   "metadata": {},
   "outputs": [],
   "source": [
    "import os\n",
    "import sys\n",
    "os.environ['GLEAMS_HOME'] = os.path.join(\n",
    "    os.environ['HOME'], 'Projects', 'gleams')\n",
    "# Make sure all code is in the PATH.\n",
    "src_dir = os.path.normpath(os.path.join(os.environ['GLEAMS_HOME'], 'src'))\n",
    "if src_dir not in sys.path:\n",
    "    sys.path.append(src_dir)"
   ]
  },
  {
   "cell_type": "code",
   "execution_count": null,
   "metadata": {},
   "outputs": [],
   "source": [
    "import functools\n",
    "import re\n",
    "import shutil\n",
    "\n",
    "import joblib\n",
    "import matplotlib.pyplot as plt\n",
    "import matplotlib.ticker as mticker\n",
    "import numpy as np\n",
    "import pandas as pd\n",
    "import ppx\n",
    "import pyteomics.mgf\n",
    "import pyteomics.mzid\n",
    "import scipy.spatial.distance as ssd\n",
    "import seaborn as sns\n",
    "from sklearn.metrics import roc_auc_score, roc_curve"
   ]
  },
  {
   "cell_type": "code",
   "execution_count": null,
   "metadata": {},
   "outputs": [],
   "source": [
    "# Initialize logging.\n",
    "from gleams import logger as glogger\n",
    "glogger.init()\n",
    "# Initialize all random seeds before importing any packages.\n",
    "from gleams import rndm\n",
    "rndm.set_seeds()\n",
    "\n",
    "from gleams import config\n",
    "from gleams.feature import feature\n",
    "from gleams.metadata import metadata as md\n",
    "from gleams.ms_io import ms_io\n",
    "from gleams.nn import nn"
   ]
  },
  {
   "cell_type": "code",
   "execution_count": null,
   "metadata": {},
   "outputs": [],
   "source": [
    "import logging\n",
    "logger = logging.getLogger('gleams')\n",
    "logger.setLevel(logging.DEBUG)"
   ]
  },
  {
   "cell_type": "code",
   "execution_count": null,
   "metadata": {},
   "outputs": [],
   "source": [
    "# Plot styling.\n",
    "plt.style.use(['seaborn-white', 'seaborn-paper'])\n",
    "plt.rc('font', family='serif')\n",
    "sns.set_palette(['#9e0059', '#6da7de', '#ee266d', '#dee000', '#eb861e'])\n",
    "sns.set_context('paper', font_scale=1.3)    # Single-column figure."
   ]
  },
  {
   "cell_type": "markdown",
   "metadata": {},
   "source": [
    "## Download data"
   ]
  },
  {
   "cell_type": "code",
   "execution_count": null,
   "metadata": {},
   "outputs": [],
   "source": [
    "peak_dir = os.path.join(\n",
    "    os.environ['GLEAMS_HOME'], 'data', 'peak', 'PXD015943')\n",
    "result_dir = os.path.join(\n",
    "    os.environ['GLEAMS_HOME'], 'notebooks', 'phospho')\n",
    "if not os.path.isdir(peak_dir):\n",
    "    os.makedirs(peak_dir)\n",
    "if not os.path.isdir(result_dir):\n",
    "    os.makedirs(result_dir)\n",
    "\n",
    "filename_metadata = os.path.join(result_dir, 'metadata_PXD015943.parquet')"
   ]
  },
  {
   "cell_type": "code",
   "execution_count": null,
   "metadata": {},
   "outputs": [],
   "source": [
    "# Download all RAW and mzIdentML files.\n",
    "proj = ppx.find_project('PXD015943', local=peak_dir)\n",
    "proj.download(proj.remote_files('*.raw'))\n",
    "proj.download(proj.remote_files('*.mzid'))"
   ]
  },
  {
   "cell_type": "code",
   "execution_count": null,
   "metadata": {},
   "outputs": [],
   "source": [
    "%%bash\n",
    "\n",
    "for raw_file in $GLEAMS_HOME/data/peak/PXD015943/*.raw; do\n",
    "    if [ ! -f $GLEAMS_HOME/data/peak/PXD015943/$(basename $raw_file .raw).mzML.gz ]; then\n",
    "        ThermoRawFileParser -i $raw_file -o $GLEAMS_HOME/data/peak/PXD015943 -f 2 -g\n",
    "    fi\n",
    "done"
   ]
  },
  {
   "cell_type": "markdown",
   "metadata": {},
   "source": [
    "## Data pre-processing"
   ]
  },
  {
   "cell_type": "code",
   "execution_count": null,
   "metadata": {},
   "outputs": [],
   "source": [
    "def get_modified_sequence(series):\n",
    "    sequence, mods = series['PeptideSequence'], series['Modification']\n",
    "    mods = {mod['location']: str(round(mod['monoisotopicMassDelta'], 6))\n",
    "            for mod in mods}\n",
    "    sequence_mod = []\n",
    "    if 0 in mods:\n",
    "        sequence_mod.append(f'+{mods[0]}')\n",
    "    for i, aa in enumerate(sequence, 1):\n",
    "        sequence_mod.append(aa)\n",
    "        if i in mods:\n",
    "            sequence_mod.append(f'+{mods[i]}')\n",
    "    if len(sequence) + 1 in mods:\n",
    "        sequence_mod.append(f'+{mods[len(sequence) + 1]}')\n",
    "    return ''.join(sequence_mod)"
   ]
  },
  {
   "cell_type": "code",
   "execution_count": null,
   "metadata": {},
   "outputs": [],
   "source": [
    "# Read all PSMs from the mzIdentML files.\n",
    "filenames_mzid = [os.path.join(peak_dir, filename)\n",
    "                  for filename in os.listdir(peak_dir)\n",
    "                  if filename.endswith('.mzid')]\n",
    "\n",
    "read_mzid = functools.partial(\n",
    "    pyteomics.mzid.DataFrame, recursive=True, retrieve_refs=True,\n",
    "    iterative=False, read_schema=False, build_id_cache=False)\n",
    "\n",
    "\n",
    "psms = pd.concat(joblib.Parallel(n_jobs=-1)(\n",
    "                     joblib.delayed(read_mzid)(filename)\n",
    "                     for filename in filenames_mzid),\n",
    "                 ignore_index=True)"
   ]
  },
  {
   "cell_type": "code",
   "execution_count": null,
   "metadata": {},
   "outputs": [],
   "source": [
    "# Create a suitable metadata file.\n",
    "metadata = (psms['spectrum title']\n",
    "            .str.extract(r'^\\d+: Scan (\\d+) \\(rt=\\d+\\.\\d+\\) \\[.*\\\\([^\\\\]+)\\.raw\\]$')\n",
    "            .rename(columns={0: 'scan', 1: 'filename'}))\n",
    "metadata['dataset'] = 'PXD015943'\n",
    "metadata['filename'] += '.mzML.gz'\n",
    "metadata['scan'] = metadata['scan'].fillna(-1).astype(int)\n",
    "metadata['charge'] = psms['chargeState']\n",
    "metadata['mz'] = psms['experimentalMassToCharge']\n",
    "metadata['sequence'] = (psms[['PeptideSequence', 'Modification']].dropna()\n",
    "                        .apply(get_modified_sequence, 'columns'))\n",
    "metadata = (metadata[['dataset', 'filename', 'scan', 'charge', 'mz', 'sequence']]\n",
    "            .dropna())\n",
    "# Restrict to only existing peak files.\n",
    "filenames_peak = [filename for filename in os.listdir(peak_dir)\n",
    "                  if filename.endswith('.mzML.gz')]\n",
    "metadata = metadata[metadata['filename'].isin(filenames_peak)]\n",
    "# Export metadata file.\n",
    "metadata.to_parquet(filename_metadata, index=False)"
   ]
  },
  {
   "cell_type": "markdown",
   "metadata": {},
   "source": [
    "## Embed spectra"
   ]
  },
  {
   "cell_type": "code",
   "execution_count": null,
   "metadata": {},
   "outputs": [],
   "source": [
    "# Encode and embed the spectra.\n",
    "feature.convert_peaks_to_features(filename_metadata)\n",
    "nn.embed(filename_metadata, config.model_filename, config.charges)"
   ]
  },
  {
   "cell_type": "markdown",
   "metadata": {},
   "source": [
    "## Evaluate pair distances"
   ]
  },
  {
   "cell_type": "code",
   "execution_count": null,
   "metadata": {},
   "outputs": [],
   "source": [
    "md.generate_pairs_positive(\n",
    "    os.path.join(os.environ['GLEAMS_HOME'], 'data', 'feature', 'dataset',\n",
    "                 'PXD015943.parquet'),\n",
    "    config.charges)\n",
    "md.generate_pairs_negative(\n",
    "    os.path.join(os.environ['GLEAMS_HOME'], 'data', 'feature', 'dataset',\n",
    "                 'PXD015943.parquet'),\n",
    "    config.charges, config.pair_mz_tolerance,\n",
    "    config.negative_pair_fragment_tolerance,\n",
    "    config.negative_pair_matching_fragments_threshold)\n",
    "for mode in ('pos', 'neg'):\n",
    "    for charge in np.arange(config.charges[0], config.charges[1] + 1):\n",
    "        shutil.move(\n",
    "            os.path.join(os.environ['GLEAMS_HOME'], 'data', 'feature',\n",
    "                         'dataset', f'PXD015943_pairs_{mode}_{charge}.npy'),\n",
    "            os.path.join(\n",
    "                result_dir, f'metadata_PXD015943_pairs_{mode}_{charge}.npy'))"
   ]
  },
  {
   "cell_type": "code",
   "execution_count": null,
   "metadata": {},
   "outputs": [],
   "source": [
    "metadata_feature = pd.read_parquet(\n",
    "    os.path.join(os.environ['GLEAMS_HOME'], 'data', 'feature', 'dataset',\n",
    "                 'PXD015943.parquet'))\n",
    "metadata_embed = pd.read_parquet(\n",
    "    os.path.join(os.environ['GLEAMS_HOME'], 'data', 'embed', 'dataset',\n",
    "                 'PXD015943.parquet'),\n",
    "    columns=['dataset', 'filename', 'scan'])"
   ]
  },
  {
   "cell_type": "code",
   "execution_count": null,
   "metadata": {},
   "outputs": [],
   "source": [
    "metadata = (pd.merge(metadata_feature, metadata_embed.reset_index(), 'right',\n",
    "                     on=['dataset', 'filename', 'scan'])\n",
    "            .dropna())\n",
    "metadata['index'] = metadata['index'].astype(int)"
   ]
  },
  {
   "cell_type": "code",
   "execution_count": null,
   "metadata": {},
   "outputs": [],
   "source": [
    "embeddings = np.load(\n",
    "    os.path.join(os.environ['GLEAMS_HOME'], 'data', 'embed', 'dataset',\n",
    "                 'PXD015943.npy'))"
   ]
  },
  {
   "cell_type": "code",
   "execution_count": null,
   "metadata": {},
   "outputs": [],
   "source": [
    "pairs_pos, pairs_neg = [], []\n",
    "max_num_pairs = 10_000_000 // (config.charges[1] + 1 - config.charges[0])\n",
    "for charge in np.arange(config.charges[0], config.charges[1] + 1):\n",
    "    pairs_pos_charge = np.load(\n",
    "        os.path.join(result_dir, f'metadata_PXD015943_pairs_pos_{charge}.npy'))\n",
    "    pairs_neg_charge = np.load(\n",
    "        os.path.join(result_dir, f'metadata_PXD015943_pairs_neg_{charge}.npy'))\n",
    "    num_pairs = min(len(pairs_pos_charge), len(pairs_neg_charge),\n",
    "                    max_num_pairs // 2)\n",
    "    logger.info('Using %d positive and negative feature pairs each for '\n",
    "                'charge %d', num_pairs, charge)\n",
    "    idx_pos = np.random.choice(pairs_pos_charge.shape[0], num_pairs, False)\n",
    "    idx_neg = np.random.choice(pairs_neg_charge.shape[0], num_pairs, False)\n",
    "    pairs_pos.append(pairs_pos_charge[idx_pos])\n",
    "    pairs_neg.append(pairs_neg_charge[idx_neg])\n",
    "pairs_pos, pairs_neg = np.vstack(pairs_pos), np.vstack(pairs_neg)"
   ]
  },
  {
   "cell_type": "code",
   "execution_count": null,
   "metadata": {},
   "outputs": [],
   "source": [
    "dist_pos = joblib.Parallel(n_jobs=-1)(\n",
    "    joblib.delayed(ssd.euclidean)(embeddings[index1], embeddings[index2])\n",
    "    for index1, index2 in zip(metadata.loc[pairs_pos[:, 0]]['index'],\n",
    "                              metadata.loc[pairs_pos[:, 1]]['index']))\n",
    "dist_neg = joblib.Parallel(n_jobs=-1)(\n",
    "    joblib.delayed(ssd.euclidean)(embeddings[index1], embeddings[index2])\n",
    "    for index1, index2 in zip(metadata.loc[pairs_neg[:, 0]]['index'],\n",
    "                              metadata.loc[pairs_neg[:, 1]]['index']))"
   ]
  },
  {
   "cell_type": "code",
   "execution_count": null,
   "metadata": {},
   "outputs": [],
   "source": [
    "joblib.dump([dist_pos, dist_neg], 'phospho_pairs_dist.joblib')"
   ]
  },
  {
   "cell_type": "code",
   "execution_count": null,
   "metadata": {},
   "outputs": [],
   "source": [
    "# dist_pos, dist_neg = joblib.load('phospho_pairs_dist.joblib')"
   ]
  },
  {
   "cell_type": "code",
   "execution_count": null,
   "metadata": {},
   "outputs": [],
   "source": [
    "width = 7\n",
    "height = width / 1.618    # golden ratio\n",
    "fig, ax = plt.subplots(figsize=(width, height))\n",
    "\n",
    "sns.kdeplot(dist_pos, shade=True, label='Positive pairs', ax=ax)\n",
    "sns.kdeplot(dist_neg, shade=True, label='Negative pairs', ax=ax)\n",
    "\n",
    "ax.set_xlim(0, ax.get_xlim()[1])\n",
    "\n",
    "ax.set_xlabel('Embedded distance')\n",
    "ax.set_ylabel('Density')\n",
    "\n",
    "ax.legend()\n",
    "\n",
    "sns.despine()\n",
    "\n",
    "plt.savefig('phospho_pairs_dist.png', dpi=300, bbox_inches='tight')\n",
    "plt.show()\n",
    "plt.close()"
   ]
  },
  {
   "cell_type": "code",
   "execution_count": null,
   "metadata": {},
   "outputs": [],
   "source": [
    "labels = np.hstack([[0] * len(dist_pos), [1] * len(dist_neg)])\n",
    "dist = np.hstack([dist_pos, dist_neg])\n",
    "fpr, tpr, _ = roc_curve(labels, dist)\n",
    "auc = roc_auc_score(labels, dist)"
   ]
  },
  {
   "cell_type": "code",
   "execution_count": null,
   "metadata": {},
   "outputs": [],
   "source": [
    "width = 7 / 1.618\n",
    "height = width\n",
    "fig, ax = plt.subplots(figsize=(width, height))\n",
    "\n",
    "interval = np.linspace(0, 1, 101)\n",
    "tpr[0], tpr[-1] = 0, 1\n",
    "ax.plot(fpr, tpr, label=f'AUC = {auc:.3f}')\n",
    "        \n",
    "ax.plot([0, 1], [0, 1], c='black', ls='--')\n",
    "\n",
    "ax.set_xlim(0, 1)\n",
    "ax.set_ylim(0, 1)\n",
    "\n",
    "ax.set_xlabel('False Positive Rate')\n",
    "ax.set_ylabel('True Positive Rate')\n",
    "\n",
    "ax.legend(loc='lower right', frameon=False)\n",
    "\n",
    "sns.despine()\n",
    "\n",
    "plt.savefig('phospho_pairs_roc.pdf', dpi=300, bbox_inches='tight')\n",
    "plt.show()\n",
    "plt.close()"
   ]
  }
 ],
 "metadata": {
  "kernelspec": {
   "display_name": "Python 3",
   "language": "python",
   "name": "python3"
  },
  "language_info": {
   "codemirror_mode": {
    "name": "ipython",
    "version": 3
   },
   "file_extension": ".py",
   "mimetype": "text/x-python",
   "name": "python",
   "nbconvert_exporter": "python",
   "pygments_lexer": "ipython3",
   "version": "3.8.2"
  }
 },
 "nbformat": 4,
 "nbformat_minor": 4
}
