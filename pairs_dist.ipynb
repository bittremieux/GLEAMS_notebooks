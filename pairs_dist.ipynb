{
 "cells": [
  {
   "cell_type": "code",
   "execution_count": null,
   "metadata": {},
   "outputs": [],
   "source": [
    "import os\n",
    "import sys\n",
    "os.environ['GLEAMS_HOME'] = os.path.join(os.environ['HOME'],\n",
    "                                         'Projects/gleams')\n",
    "# Make sure all code is in the PATH.\n",
    "sys.path.append(\n",
    "    os.path.normpath(os.path.join(os.environ['GLEAMS_HOME'], 'src')))"
   ]
  },
  {
   "cell_type": "code",
   "execution_count": null,
   "metadata": {},
   "outputs": [],
   "source": [
    "import joblib\n",
    "import matplotlib.pyplot as plt\n",
    "import numpy as np\n",
    "import pandas as pd\n",
    "import scipy.spatial.distance as ssd\n",
    "import seaborn as sns"
   ]
  },
  {
   "cell_type": "code",
   "execution_count": null,
   "metadata": {},
   "outputs": [],
   "source": [
    "import logging\n",
    "logger = logging.getLogger('gleams')\n",
    "logger.setLevel(logging.DEBUG)"
   ]
  },
  {
   "cell_type": "code",
   "execution_count": null,
   "metadata": {},
   "outputs": [],
   "source": [
    "import warnings\n",
    "warnings.simplefilter(action='ignore', category=FutureWarning)"
   ]
  },
  {
   "cell_type": "code",
   "execution_count": null,
   "metadata": {},
   "outputs": [],
   "source": [
    "from gleams.dag import dag\n",
    "\n",
    "from gleams import config"
   ]
  },
  {
   "cell_type": "code",
   "execution_count": null,
   "metadata": {},
   "outputs": [],
   "source": [
    "# Plot styling.\n",
    "plt.style.use(['seaborn-white', 'seaborn-paper'])\n",
    "plt.rc('font', family='serif')\n",
    "sns.set_palette('Set1')\n",
    "sns.set_context('paper', font_scale=1.3)    # Single-column figure."
   ]
  },
  {
   "cell_type": "code",
   "execution_count": null,
   "metadata": {},
   "outputs": [],
   "source": [
    "split = 'test'"
   ]
  },
  {
   "cell_type": "code",
   "execution_count": null,
   "metadata": {},
   "outputs": [],
   "source": [
    "metadata_feature = (\n",
    "    pd.read_parquet(\n",
    "        os.path.join(os.environ['GLEAMS_HOME'], 'data', 'feature',\n",
    "                     f'feature_{config.massivekb_task_id}_{split}.parquet'))\n",
    "    .set_index(['dataset', 'filename', 'scan']))\n",
    "metadata_embed = (\n",
    "    pd.read_parquet(\n",
    "        os.path.join(os.environ['GLEAMS_HOME'], 'data', 'embed',\n",
    "                     f'embed_{config.massivekb_task_id}_{split}.parquet'),\n",
    "        columns=['dataset', 'filename', 'scan'])\n",
    "    .set_index(['dataset', 'filename', 'scan']))"
   ]
  },
  {
   "cell_type": "code",
   "execution_count": null,
   "metadata": {},
   "outputs": [],
   "source": [
    "metadata = (pd.merge(metadata_feature, metadata_embed, 'right',\n",
    "                     left_index=True, right_index=True)\n",
    "            .reset_index().dropna())"
   ]
  },
  {
   "cell_type": "code",
   "execution_count": null,
   "metadata": {},
   "outputs": [],
   "source": [
    "embeddings = np.load(\n",
    "    os.path.join(os.environ['GLEAMS_HOME'], 'data', 'embed',\n",
    "                 f'embed_{config.massivekb_task_id}_{split}.npy'),\n",
    "    mmap_mode='r')"
   ]
  },
  {
   "cell_type": "code",
   "execution_count": null,
   "metadata": {},
   "outputs": [],
   "source": [
    "pairs_pos = np.load(\n",
    "    os.path.join(\n",
    "        os.environ['GLEAMS_HOME'], 'data', 'feature',\n",
    "        f'feature_{config.massivekb_task_id}_{split}_pairs_pos.npy'),\n",
    "    mmap_mode='r')\n",
    "pairs_neg = np.load(\n",
    "    os.path.join(\n",
    "        os.environ['GLEAMS_HOME'], 'data', 'feature',\n",
    "        f'feature_{config.massivekb_task_id}_{split}_pairs_neg.npy'),\n",
    "    mmap_mode='r')\n",
    "num_pairs = min(len(pairs_pos), len(pairs_neg))\n",
    "max_num_pairs = 1_000_000\n",
    "num_pairs = min(num_pairs, max_num_pairs // 2)\n",
    "logger.info('Using %d positive and negative feature pairs each', num_pairs)\n",
    "idx_pos = np.random.choice(pairs_pos.shape[0], num_pairs, False)\n",
    "idx_neg = np.random.choice(pairs_neg.shape[0], num_pairs, False)\n",
    "pairs_pos, pairs_neg = pairs_pos[idx_pos], pairs_neg[idx_neg]"
   ]
  },
  {
   "cell_type": "code",
   "execution_count": null,
   "metadata": {},
   "outputs": [],
   "source": [
    "dist_pos, dist_neg = [], []\n",
    "for pair in pairs_pos:\n",
    "    index1, index2 = metadata.iloc[pair].index\n",
    "    dist_pos.append(ssd.euclidean(embeddings[index1], embeddings[index2]))\n",
    "for pair in pairs_neg:\n",
    "    index1, index2 = metadata.iloc[pair].index\n",
    "    dist_neg.append(ssd.euclidean(embeddings[index1], embeddings[index2]))"
   ]
  },
  {
   "cell_type": "code",
   "execution_count": null,
   "metadata": {},
   "outputs": [],
   "source": [
    "joblib.dump([dist_pos, dist_neg], 'pairs_dist.joblib')"
   ]
  },
  {
   "cell_type": "code",
   "execution_count": null,
   "metadata": {},
   "outputs": [],
   "source": [
    "# dist_pos, dist_neg = joblib.load('pairs_dist.joblib')"
   ]
  },
  {
   "cell_type": "code",
   "execution_count": null,
   "metadata": {},
   "outputs": [],
   "source": [
    "width = 7\n",
    "height = width / 1.618    # golden ratio\n",
    "fig, ax = plt.subplots(figsize=(width, height))\n",
    "\n",
    "sns.kdeplot(dist_pos, shade=True, label='Positive pairs', ax=ax)\n",
    "sns.kdeplot(dist_neg, shade=True, label='Negative pairs', ax=ax)\n",
    "\n",
    "ax.set_xlabel('Embedded distance')\n",
    "ax.set_ylabel('Density')\n",
    "\n",
    "sns.despine()\n",
    "\n",
    "plt.savefig('pairs_dist.png', dpi=300, bbox_inches='tight')\n",
    "plt.show()\n",
    "plt.close()"
   ]
  },
  {
   "cell_type": "code",
   "execution_count": null,
   "metadata": {},
   "outputs": [],
   "source": [
    "logging.shutdown()"
   ]
  }
 ],
 "metadata": {
  "kernelspec": {
   "display_name": "Python 3",
   "language": "python",
   "name": "python3"
  },
  "language_info": {
   "codemirror_mode": {
    "name": "ipython",
    "version": 3
   },
   "file_extension": ".py",
   "mimetype": "text/x-python",
   "name": "python",
   "nbconvert_exporter": "python",
   "pygments_lexer": "ipython3",
   "version": "3.7.5"
  }
 },
 "nbformat": 4,
 "nbformat_minor": 2
}
