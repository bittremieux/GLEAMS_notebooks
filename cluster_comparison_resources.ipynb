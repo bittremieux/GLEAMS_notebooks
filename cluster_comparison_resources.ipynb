{
 "cells": [
  {
   "cell_type": "code",
   "execution_count": null,
   "id": "bb96bbfc",
   "metadata": {},
   "outputs": [],
   "source": [
    "import datetime\n",
    "import os\n",
    "\n",
    "import matplotlib.pyplot as plt\n",
    "import matplotlib.ticker as mticker\n",
    "import pandas as pd\n",
    "import seaborn as sns"
   ]
  },
  {
   "cell_type": "code",
   "execution_count": null,
   "id": "5ea025b9",
   "metadata": {},
   "outputs": [],
   "source": [
    "# Plot styling.\n",
    "plt.style.use(['seaborn-white', 'seaborn-paper'])\n",
    "plt.rc('font', family='serif')\n",
    "sns.set_palette(['#9e0059', '#6da7de', '#ee266d', '#dee000', '#eb861e'])\n",
    "sns.set_context('paper', font_scale=1.3)    # Single-column figure."
   ]
  },
  {
   "cell_type": "code",
   "execution_count": null,
   "id": "2547cf61",
   "metadata": {},
   "outputs": [],
   "source": [
    "dir_name = '../doc/log/scale'\n",
    "tool_names = ['GLEAMS', 'falcon', 'MaRaCluster', 'MS-Cluster',\n",
    "              'spectra-cluster']"
   ]
  },
  {
   "cell_type": "code",
   "execution_count": null,
   "id": "417564f8",
   "metadata": {},
   "outputs": [],
   "source": [
    "resources = []\n",
    "for tool in tool_names:\n",
    "    for index in range(3):\n",
    "        filename = os.path.join(dir_name, f'scale_{tool.lower()}_{index}.log')\n",
    "        if os.path.isfile(filename):\n",
    "            with open(filename) as f_in:\n",
    "                for line in f_in:\n",
    "                    if 'Elapsed (wall clock) time' in line:\n",
    "                        time = pd.Timedelta(line[line.rfind(' ') + 1:].strip())\n",
    "                        resources.append((tool, index, time))\n",
    "                        break\n",
    "        else:\n",
    "            resources.append((tool, index, pd.Timedelta(0)))\n",
    "resources = pd.DataFrame(resources, columns=['tool', 'index', 'time'])\n",
    "resources['time_min'] = resources['time'].astype('timedelta64[m]')"
   ]
  },
  {
   "cell_type": "code",
   "execution_count": null,
   "id": "a1358faa",
   "metadata": {},
   "outputs": [],
   "source": [
    "width = 7\n",
    "height = width / 1.618\n",
    "fig, ax = plt.subplots(figsize=(width, height))\n",
    "with sns.color_palette(['#9e0059', '#ee266d', '#eb861e', '#6da7de', '#dee000']):\n",
    "    sns.barplot(data=resources, x='index', y='time_min', hue='tool',\n",
    "                hue_order=['GLEAMS', 'MaRaCluster', 'spectra-cluster',\n",
    "                           'falcon', 'MS-Cluster'])\n",
    "\n",
    "ax.legend(loc='lower center', bbox_to_anchor=(0.5, 1), ncol=2, frameon=False)\n",
    "\n",
    "ax.set_xticklabels(['28 million', '56 million', '84 million'])\n",
    "ax.set_xlabel('Number of spectra')\n",
    "ax.set_ylabel('Runtime (minutes)')\n",
    "\n",
    "sns.despine()\n",
    "\n",
    "plt.savefig('cluster_comparison_resources.png', dpi=300, bbox_inches='tight')\n",
    "plt.show()\n",
    "plt.close()"
   ]
  }
 ],
 "metadata": {
  "kernelspec": {
   "display_name": "Python 3 (ipykernel)",
   "language": "python",
   "name": "python3"
  },
  "language_info": {
   "codemirror_mode": {
    "name": "ipython",
    "version": 3
   },
   "file_extension": ".py",
   "mimetype": "text/x-python",
   "name": "python",
   "nbconvert_exporter": "python",
   "pygments_lexer": "ipython3",
   "version": "3.8.12"
  }
 },
 "nbformat": 4,
 "nbformat_minor": 5
}
