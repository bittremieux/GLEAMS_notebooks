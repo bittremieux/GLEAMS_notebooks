{
 "cells": [
  {
   "cell_type": "code",
   "execution_count": null,
   "id": "6312fcb2",
   "metadata": {},
   "outputs": [],
   "source": [
    "import matplotlib.pyplot as plt\n",
    "import matplotlib.ticker as mticker\n",
    "import pandas as pd\n",
    "import seaborn as sns"
   ]
  },
  {
   "cell_type": "code",
   "execution_count": null,
   "id": "e974cc15",
   "metadata": {},
   "outputs": [],
   "source": [
    "# Plot styling.\n",
    "plt.style.use(['seaborn-white', 'seaborn-paper'])\n",
    "plt.rc('font', family='serif')\n",
    "sns.set_palette(['#9e0059', '#6da7de', '#ee266d', '#dee000', '#eb861e'])\n",
    "sns.set_context('paper', font_scale=1.3)    # Single-column figure."
   ]
  },
  {
   "cell_type": "code",
   "execution_count": null,
   "id": "295cf9e3",
   "metadata": {},
   "outputs": [],
   "source": [
    "train_all = pd.read_csv('train_all.log')\n",
    "train_no_ref = pd.read_csv('train_no_ref.log')\n",
    "train_no_fragment = pd.read_csv('train_no_fragment.log')"
   ]
  },
  {
   "cell_type": "code",
   "execution_count": null,
   "id": "6f6cc3ad",
   "metadata": {},
   "outputs": [],
   "source": [
    "width = 7\n",
    "height = width / 1.618\n",
    "fig, ax = plt.subplots(figsize=(width, height))\n",
    "\n",
    "for data, label, color in zip(\n",
    "        [train_all, train_no_ref, train_no_fragment],\n",
    "        ['GLEAMS', 'GLEAMS minus ref spectra features',\n",
    "         'GLEAMS minus fragment features'],\n",
    "        [('#9e0059', '#e8cad3'), ('#6da7de', '#dbe5f1'),\n",
    "         ('#ee266d', '#fad2d8')]):\n",
    "    ax.scatter(data['epoch'] + 1, data['val_loss_2'], marker='o', c=color[1],\n",
    "               clip_on=False)\n",
    "    ax.plot(data['epoch'] + 1, data['val_loss_2'].rolling(5, 1, True).mean(),\n",
    "            label=label, c=color[0])\n",
    "\n",
    "ax.set_xlim(0, 20)\n",
    "ax.set_xlabel('Iteration')\n",
    "ax.set_ylabel('Validation loss')\n",
    "\n",
    "ax.xaxis.set_major_locator(mticker.MultipleLocator(5))\n",
    "\n",
    "ax.legend()\n",
    "\n",
    "sns.despine()\n",
    "\n",
    "plt.savefig('ablation.png', dpi=300, bbox_inches='tight')\n",
    "plt.show()\n",
    "plt.close()"
   ]
  }
 ],
 "metadata": {
  "kernelspec": {
   "display_name": "Python 3 (ipykernel)",
   "language": "python",
   "name": "python3"
  },
  "language_info": {
   "codemirror_mode": {
    "name": "ipython",
    "version": 3
   },
   "file_extension": ".py",
   "mimetype": "text/x-python",
   "name": "python",
   "nbconvert_exporter": "python",
   "pygments_lexer": "ipython3",
   "version": "3.8.12"
  }
 },
 "nbformat": 4,
 "nbformat_minor": 5
}
