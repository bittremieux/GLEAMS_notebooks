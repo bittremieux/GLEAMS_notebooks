{
 "cells": [
  {
   "cell_type": "code",
   "execution_count": null,
   "metadata": {},
   "outputs": [],
   "source": [
    "import os\n",
    "import sys\n",
    "os.environ['GLEAMS_HOME'] = os.path.join(os.environ['HOME'],\n",
    "                                         'Projects/gleams')\n",
    "# Make sure all code is in the PATH.\n",
    "sys.path.append(\n",
    "    os.path.normpath(os.path.join(os.environ['GLEAMS_HOME'], 'src')))"
   ]
  },
  {
   "cell_type": "code",
   "execution_count": null,
   "metadata": {},
   "outputs": [],
   "source": [
    "import matplotlib.pyplot as plt\n",
    "import numpy as np\n",
    "import pandas as pd\n",
    "import seaborn as sns\n",
    "import umap\n",
    "from scipy.stats import pearsonr"
   ]
  },
  {
   "cell_type": "code",
   "execution_count": null,
   "metadata": {},
   "outputs": [],
   "source": [
    "import logging\n",
    "logger = logging.getLogger('gleams')\n",
    "logger.setLevel(logging.DEBUG)"
   ]
  },
  {
   "cell_type": "code",
   "execution_count": null,
   "metadata": {},
   "outputs": [],
   "source": [
    "import warnings\n",
    "warnings.simplefilter(action='ignore', category=FutureWarning)"
   ]
  },
  {
   "cell_type": "code",
   "execution_count": null,
   "metadata": {},
   "outputs": [],
   "source": [
    "from gleams.dag import dag\n",
    "\n",
    "from gleams import config\n",
    "from gleams.ms_io import ms_io\n",
    "from gleams.nn import data_generator, embedder, nn"
   ]
  },
  {
   "cell_type": "code",
   "execution_count": null,
   "metadata": {},
   "outputs": [],
   "source": [
    "# Plot styling.\n",
    "plt.style.use(['seaborn-white', 'seaborn-paper'])\n",
    "plt.rc('font', family='sans-serif')\n",
    "sns.set_palette('Set1')\n",
    "sns.set_context('paper', font_scale=1.3)    # Single-column figure."
   ]
  },
  {
   "cell_type": "code",
   "execution_count": null,
   "metadata": {},
   "outputs": [],
   "source": [
    "split = 'test'"
   ]
  },
  {
   "cell_type": "code",
   "execution_count": null,
   "metadata": {},
   "outputs": [],
   "source": [
    "metadata = pd.merge(\n",
    "    pd.read_parquet(\n",
    "        os.path.join(os.environ['GLEAMS_HOME'], 'data', 'embed',\n",
    "                     f'embed_{config.massivekb_task_id}_{split}.parquet')),\n",
    "    (pd.read_parquet(\n",
    "        os.path.join(os.environ['GLEAMS_HOME'], 'data', 'metadata',\n",
    "                     f'massivekb_ids_{config.massivekb_task_id}.parquet'))\n",
    "     .drop_duplicates(['filename', 'scan'])), 'left', ['filename', 'scan'])\n",
    "# Only include frequently occurring peptides.\n",
    "metadata = metadata[metadata['charge'] <= 4]\n",
    "min_peptide_count = 5\n",
    "peptide_counts = metadata['sequence'].value_counts()\n",
    "metadata = metadata[metadata['sequence'].isin(\n",
    "    peptide_counts[peptide_counts >= min_peptide_count].index)]"
   ]
  },
  {
   "cell_type": "code",
   "execution_count": null,
   "metadata": {},
   "outputs": [],
   "source": [
    "num_embeddings = min(len(metadata), 5000000)\n",
    "selected_idx = np.random.choice(len(metadata), num_embeddings, False)\n",
    "metadata = metadata.iloc[selected_idx]\n",
    "gleams_embeddings = np.load(\n",
    "    os.path.join(os.environ['GLEAMS_HOME'], 'data', 'embed',\n",
    "                 f'embed_{config.massivekb_task_id}_{split}.npy'),\n",
    "    mmap_mode='r')[metadata.index]"
   ]
  },
  {
   "cell_type": "code",
   "execution_count": null,
   "metadata": {},
   "outputs": [],
   "source": [
    "min_r = 0.5\n",
    "\n",
    "print('Dimensions correlated with charge:')\n",
    "for dim in range(gleams_embeddings.shape[1]):\n",
    "    r, pval = pearsonr(gleams_embeddings[:, dim], metadata['charge'])\n",
    "    if abs(r) > min_r:\n",
    "        print(dim, '\\t', f'{r:6.3f}')\n",
    "            \n",
    "print('Dimensions correlated with m/z:')\n",
    "for dim in range(gleams_embeddings.shape[1]):\n",
    "    r, pval = pearsonr(gleams_embeddings[:, dim], metadata['mz'])\n",
    "    if abs(r) > min_r:\n",
    "        print(dim, '\\t', f'{r:6.3f}')"
   ]
  },
  {
   "cell_type": "code",
   "execution_count": null,
   "metadata": {},
   "outputs": [],
   "source": [
    "umap_embeddings = (umap.UMAP(min_peptide_count)\n",
    "                   .fit_transform(gleams_embeddings))"
   ]
  },
  {
   "cell_type": "code",
   "execution_count": null,
   "metadata": {},
   "outputs": [],
   "source": [
    "width = 7\n",
    "height = width / 1.618\n",
    "fig, ax = plt.subplots(figsize=(width, height))\n",
    "\n",
    "sc = ax.scatter(umap_embeddings[:, 0], umap_embeddings[:, 1], s=1,\n",
    "                c=metadata['mz'], marker='.', cmap=plt.cm.get_cmap('YlGnBu'),\n",
    "                alpha=0.1, rasterized=True)\n",
    "cbar_ax = fig.add_axes([0.95, 0.25, 0.025, 0.5])\n",
    "colorbar = fig.colorbar(sc, cax=cbar_ax)\n",
    "colorbar.solids.set(alpha=1)\n",
    "colorbar.set_label('Precursor m/z', size='large', labelpad=15)\n",
    "\n",
    "ax.axis('off')\n",
    "\n",
    "plt.savefig('embed_umap_mz.png', dpi=300, bbox_inches='tight')\n",
    "plt.show()\n",
    "plt.close()"
   ]
  },
  {
   "cell_type": "code",
   "execution_count": null,
   "metadata": {},
   "outputs": [],
   "source": [
    "width = 7\n",
    "height = width / 1.618\n",
    "fig, ax = plt.subplots(figsize=(width, height))\n",
    "\n",
    "charges = np.sort(metadata['charge'].unique())\n",
    "sc = ax.scatter(umap_embeddings[:, 0], umap_embeddings[:, 1], s=1,\n",
    "                c=metadata['charge'], marker='.',\n",
    "                cmap=plt.cm.get_cmap('YlGnBu', len(charges)), alpha=0.1,\n",
    "                rasterized=True)\n",
    "cbar_ax = fig.add_axes([0.95, 0.25, 0.025, 0.5])\n",
    "colorbar = fig.colorbar(sc, cax=cbar_ax, ticks=charges, values=charges)\n",
    "colorbar.solids.set(alpha=1)\n",
    "colorbar.set_label('Precursor charge', size='large', labelpad=15)\n",
    "\n",
    "ax.axis('off')\n",
    "\n",
    "plt.savefig('embed_umap_charge.png', dpi=300, bbox_inches='tight')\n",
    "plt.show()\n",
    "plt.close()"
   ]
  },
  {
   "cell_type": "code",
   "execution_count": null,
   "metadata": {},
   "outputs": [],
   "source": [
    "frequent_peptides = metadata.reset_index(drop=True).reset_index().groupby(\n",
    "    ['sequence', 'charge'])['index'].apply(list).reset_index()\n",
    "frequent_peptides['count'] = frequent_peptides['index'].apply(len)\n",
    "frequent_peptides = frequent_peptides.sort_values('count', ascending=False)"
   ]
  },
  {
   "cell_type": "code",
   "execution_count": null,
   "metadata": {},
   "outputs": [],
   "source": [
    "frequent_peptides.head(10)"
   ]
  },
  {
   "cell_type": "code",
   "execution_count": null,
   "metadata": {},
   "outputs": [],
   "source": [
    "width = 7\n",
    "height = width / 1.618\n",
    "fig, ax = plt.subplots(figsize=(width, height))\n",
    "\n",
    "sc = ax.scatter(umap_embeddings[:, 0], umap_embeddings[:, 1], s=1,\n",
    "                c='lightgray', marker='.', alpha=0.1, rasterized=True)\n",
    "selected_peptides = frequent_peptides.head(10).sort_values(['sequence',\n",
    "                                                            'charge'])\n",
    "for indexes, peptide, charge in zip(selected_peptides['index'],\n",
    "                                    selected_peptides['sequence'],\n",
    "                                    selected_peptides['charge']):\n",
    "    ax.scatter(umap_embeddings[indexes][:, 0],\n",
    "               umap_embeddings[indexes][:, 1],\n",
    "               marker='o', label=f'{peptide}/{charge}')\n",
    "    \n",
    "ax.legend(loc='center left', bbox_to_anchor=(1, 0.5), frameon=False)\n",
    "\n",
    "ax.axis('off')\n",
    "\n",
    "plt.savefig('embed_umap_frequent_peptides.png', dpi=300, bbox_inches='tight')\n",
    "plt.show()\n",
    "plt.close()"
   ]
  }
 ],
 "metadata": {
  "kernelspec": {
   "display_name": "Python 3",
   "language": "python",
   "name": "python3"
  },
  "language_info": {
   "codemirror_mode": {
    "name": "ipython",
    "version": 3
   },
   "file_extension": ".py",
   "mimetype": "text/x-python",
   "name": "python",
   "nbconvert_exporter": "python",
   "pygments_lexer": "ipython3",
   "version": "3.7.5"
  }
 },
 "nbformat": 4,
 "nbformat_minor": 2
}
