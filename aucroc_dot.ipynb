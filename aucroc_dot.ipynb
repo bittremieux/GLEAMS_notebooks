{
 "cells": [
  {
   "cell_type": "code",
   "execution_count": null,
   "metadata": {},
   "outputs": [],
   "source": [
    "import os\n",
    "import sys\n",
    "os.environ['GLEAMS_HOME'] = os.path.join(\n",
    "    os.environ['HOME'], 'Projects', 'gleams')\n",
    "# Make sure all code is in the PATH.\n",
    "src_dir = os.path.normpath(os.path.join(os.environ['GLEAMS_HOME'], 'src'))\n",
    "if src_dir not in sys.path:\n",
    "    sys.path.append(src_dir)"
   ]
  },
  {
   "cell_type": "code",
   "execution_count": null,
   "metadata": {},
   "outputs": [],
   "source": [
    "import collections\n",
    "import itertools\n",
    "\n",
    "import joblib\n",
    "import matplotlib.pyplot as plt\n",
    "import numba as nb\n",
    "import numpy as np\n",
    "import pandas as pd\n",
    "import seaborn as sns\n",
    "import tqdm.notebook as tqdm\n",
    "from sklearn.metrics import auc, roc_curve"
   ]
  },
  {
   "cell_type": "code",
   "execution_count": null,
   "metadata": {},
   "outputs": [],
   "source": [
    "import warnings\n",
    "warnings.simplefilter(action='ignore', category=FutureWarning)"
   ]
  },
  {
   "cell_type": "code",
   "execution_count": null,
   "metadata": {},
   "outputs": [],
   "source": [
    "# Initialize logging.\n",
    "from gleams import logger as glogger\n",
    "glogger.init()\n",
    "# Initialize all random seeds before importing any packages.\n",
    "from gleams import rndm\n",
    "rndm.set_seeds()\n",
    "\n",
    "from gleams import config\n",
    "from gleams.feature import spectrum\n",
    "from gleams.ms_io import ms_io\n",
    "from gleams.nn import embedder, data_generator, nn"
   ]
  },
  {
   "cell_type": "code",
   "execution_count": null,
   "metadata": {},
   "outputs": [],
   "source": [
    "import logging\n",
    "logger = logging.getLogger('gleams')\n",
    "logger.setLevel(logging.DEBUG)"
   ]
  },
  {
   "cell_type": "code",
   "execution_count": null,
   "metadata": {},
   "outputs": [],
   "source": [
    "# Plot styling.\n",
    "plt.style.use(['seaborn-white', 'seaborn-paper'])\n",
    "plt.rc('font', family='serif')\n",
    "sns.set_palette('Set1')\n",
    "sns.set_context('paper', font_scale=1.3)    # Single-column figure."
   ]
  },
  {
   "cell_type": "code",
   "execution_count": null,
   "metadata": {},
   "outputs": [],
   "source": [
    "split = 'test'\n",
    "num_pairs = 10_000_000"
   ]
  },
  {
   "cell_type": "code",
   "execution_count": null,
   "metadata": {},
   "outputs": [],
   "source": [
    "pair_generator = data_generator.PairSequence(\n",
    "    os.path.join(\n",
    "        os.environ['GLEAMS_HOME'], 'data', 'feature',\n",
    "        f'feature_{config.massivekb_task_id}_{split}.npz'),\n",
    "    os.path.join(\n",
    "        os.environ['GLEAMS_HOME'], 'data', 'feature',\n",
    "        f'feature_{config.massivekb_task_id}_{split}_pairs_pos.npy'),\n",
    "    os.path.join(\n",
    "        os.environ['GLEAMS_HOME'], 'data', 'feature',\n",
    "        f'feature_{config.massivekb_task_id}_{split}_pairs_neg.npy'),\n",
    "    config.batch_size, nn._get_feature_split(), num_pairs,\n",
    "    False)"
   ]
  },
  {
   "cell_type": "code",
   "execution_count": null,
   "metadata": {},
   "outputs": [],
   "source": [
    "pair_metadata = pd.read_parquet(\n",
    "    os.path.join(os.environ['GLEAMS_HOME'], 'data', 'feature',\n",
    "                 f'feature_{config.massivekb_task_id}_{split}.parquet'))"
   ]
  },
  {
   "cell_type": "code",
   "execution_count": null,
   "metadata": {},
   "outputs": [],
   "source": [
    "def _get_spectra_from_file(dataset, filename, scans):\n",
    "    spectra = {}\n",
    "    filepath = os.path.join(os.environ['GLEAMS_HOME'], 'data', 'peak',\n",
    "                            dataset, filename)\n",
    "    if not os.path.isfile(filepath):\n",
    "        logger.warning('Missing peak file %s, no spectra read', filename)\n",
    "    else:\n",
    "        for spec in ms_io.get_spectra(filepath, scans):\n",
    "            spectra[f'{dataset}/{filename}/{spec.identifier}'] = \\\n",
    "                spectrum.preprocess(spec, config.fragment_mz_min,\n",
    "                                    config.fragment_mz_max)\n",
    "    return spectra"
   ]
  },
  {
   "cell_type": "code",
   "execution_count": null,
   "metadata": {},
   "outputs": [],
   "source": [
    "dataset_total = pair_metadata['dataset'].nunique()\n",
    "spectra = []\n",
    "for dataset_i, (dataset, md_dataset) in enumerate(\n",
    "        pair_metadata.groupby('dataset', sort=False), 1):\n",
    "    logging.info('Process dataset %s (%d files) [%3d/%3d]', dataset,\n",
    "                 md_dataset['filename'].nunique(), dataset_i, dataset_total)\n",
    "    spectra.extend(joblib.Parallel(n_jobs=-1, backend='multiprocessing')(\n",
    "        joblib.delayed(_get_spectra_from_file)(dataset, filename,\n",
    "                                               md_file['scan'])\n",
    "        for filename, md_file in md_dataset.groupby(\n",
    "            'filename', sort=False)))\n",
    "spectra = collections.ChainMap(*spectra)"
   ]
  },
  {
   "cell_type": "code",
   "execution_count": null,
   "metadata": {},
   "outputs": [],
   "source": [
    "@nb.njit(parallel=True)\n",
    "def dot(spectra_arr1, spectra_arr2, out, fragment_mz_tol):\n",
    "    for i in nb.prange(spectra_arr1.shape[0]):\n",
    "        out[i] = spectrum.dot(\n",
    "            spectra_arr1[i, 0], spectra_arr1[i, 1],\n",
    "            spectra_arr2[i, 0], spectra_arr2[i, 1],\n",
    "            fragment_mz_tol)\n",
    "    return out"
   ]
  },
  {
   "cell_type": "code",
   "execution_count": null,
   "metadata": {},
   "outputs": [],
   "source": [
    "spectra_arr, index_dot = ([], []), []\n",
    "for pair1, pair2 in itertools.chain(pair_generator.pairs_pos,\n",
    "                                    pair_generator.pairs_neg):\n",
    "    index_dot.append([pair1, pair2])\n",
    "    for pair_i, arr_i in zip([pair1, pair2], [0, 1]):\n",
    "        spec = spectra[f\"{pair_metadata.at[pair_i, 'dataset']}/\"\n",
    "                       f\"{pair_metadata.at[pair_i, 'filename']}/\"\n",
    "                       f\"{pair_metadata.at[pair_i, 'scan']}\"]\n",
    "        spectra_arr[arr_i].append(\n",
    "            np.pad(\n",
    "                [spec.mz, spec.intensity],\n",
    "                ((0, 0), (config.max_peaks_used - len(spec.mz), 0)),\n",
    "                'constant'))\n",
    "\n",
    "fragment_mz_tol_high_res, fragment_mz_tol_low_res = 0.05, 0.8\n",
    "labels = np.hstack((np.ones(len(pair_generator.pairs_pos), np.uint8),\n",
    "                    np.zeros(len(pair_generator.pairs_neg), np.uint8)))\n",
    "spectra_arr1 = np.asarray(spectra_arr[0])\n",
    "spectra_arr2 = np.asarray(spectra_arr[1])\n",
    "dot_high_res = dot(\n",
    "    spectra_arr1, spectra_arr2, np.zeros(spectra_arr1.shape[0], np.float32),\n",
    "    fragment_mz_tol_high_res)\n",
    "dot_low_res = dot(\n",
    "    spectra_arr1, spectra_arr2, np.zeros(spectra_arr1.shape[0], np.float32),\n",
    "    fragment_mz_tol_low_res)\n",
    "index_dot = np.asarray(index_dot)"
   ]
  },
  {
   "cell_type": "code",
   "execution_count": null,
   "metadata": {},
   "outputs": [],
   "source": [
    "emb = embedder.Embedder(\n",
    "    config.num_precursor_features, config.num_fragment_features,\n",
    "    config.num_ref_spectra, config.lr, config.model_filename)\n",
    "emb.load()"
   ]
  },
  {
   "cell_type": "code",
   "execution_count": null,
   "metadata": {},
   "outputs": [],
   "source": [
    "labels_embed, scores_embed = [], []\n",
    "for batch_i in tqdm.tqdm(range(len(pair_generator)),\n",
    "                         desc='Batches embedded'):\n",
    "    batch_x, batch_y = pair_generator[batch_i]\n",
    "    labels_embed.extend(batch_y)\n",
    "    scores_embed.extend(\n",
    "        emb.siamese_model.predict(batch_x).reshape(-1))\n",
    "labels_embed = np.asarray(labels_embed)\n",
    "scores_embed = np.asarray(scores_embed)"
   ]
  },
  {
   "cell_type": "code",
   "execution_count": null,
   "metadata": {},
   "outputs": [],
   "source": [
    "index_embed = []\n",
    "for batch_i in range(len(pair_generator)):\n",
    "    batch_pairs_pos = pair_generator.pairs_pos[\n",
    "        batch_i * pair_generator.batch_size // 2:\n",
    "        (batch_i + 1) * pair_generator.batch_size // 2]\n",
    "    batch_pairs_neg = pair_generator.pairs_neg[\n",
    "        batch_i * pair_generator.batch_size // 2:\n",
    "        (batch_i + 1) * pair_generator.batch_size // 2]\n",
    "    index_embed.extend(batch_pairs_pos)\n",
    "    index_embed.extend(batch_pairs_neg)\n",
    "index_embed = np.asarray(index_embed)"
   ]
  },
  {
   "cell_type": "code",
   "execution_count": null,
   "metadata": {},
   "outputs": [],
   "source": [
    "dot_embed = (\n",
    "    pd.merge(\n",
    "        pd.DataFrame({'dot_low_res': dot_low_res,\n",
    "                      'dot_high_res': dot_high_res})\n",
    "        .set_index([index_dot[:, 0], index_dot[:, 1]]),\n",
    "        pd.DataFrame({'scores_embed': scores_embed, 'label': labels_embed})\n",
    "        .set_index([index_embed[:, 0], index_embed[:, 1]]),\n",
    "        left_index=True, right_index=True)\n",
    "    .reset_index()\n",
    "    .rename(columns={'level_0': 'pair_0', 'level_1': 'pair_1'}))\n",
    "dot_embed[['charge', 'mz']] = (\n",
    "    pair_metadata.loc[dot_embed['pair_0'], ['charge', 'mz']]\n",
    "    .reset_index(drop=True))"
   ]
  },
  {
   "cell_type": "code",
   "execution_count": null,
   "metadata": {},
   "outputs": [],
   "source": [
    "dot_embed.to_parquet('aucroc_dot.parquet', index=False)"
   ]
  },
  {
   "cell_type": "code",
   "execution_count": null,
   "metadata": {},
   "outputs": [],
   "source": [
    "# dot_embed = pd.read_parquet('aucroc_dot.parquet')"
   ]
  },
  {
   "cell_type": "markdown",
   "metadata": {},
   "source": [
    "### Dot product versus embedded Euclidean distance"
   ]
  },
  {
   "cell_type": "code",
   "execution_count": null,
   "metadata": {},
   "outputs": [],
   "source": [
    "width = 7\n",
    "\n",
    "jg = sns.jointplot(data=dot_embed, x='dot_high_res', y='scores_embed',\n",
    "                   hue='label', palette='Set1', height=width,\n",
    "                   s=1, marker='.', rasterized=True,\n",
    "                   joint_kws={'alpha': 0.1})\n",
    "\n",
    "jg.ax_joint.legend(jg.ax_joint.get_legend_handles_labels()[0],\n",
    "                   ['Negative', 'Positive'], title='Pair type')\n",
    "jg.set_axis_labels('Spectrum dot product', 'Embedded euclidean distance')\n",
    "\n",
    "plt.savefig('dot_vs_dist.png', dpi=300, bbox_inches='tight')\n",
    "plt.show()\n",
    "plt.close()"
   ]
  },
  {
   "cell_type": "code",
   "execution_count": null,
   "metadata": {},
   "outputs": [],
   "source": [
    "height = 7\n",
    "\n",
    "dot_embed_charge = dot_embed[dot_embed['charge'] <= 4]\n",
    "\n",
    "jg = sns.JointGrid(height=height)\n",
    "sns.scatterplot(data=dot_embed_charge, x='dot_high_res', y='scores_embed',\n",
    "                hue='charge', palette='Set1', alpha=0.1, s=1, marker='.',\n",
    "                rasterized=True, ax=jg.ax_joint)\n",
    "sns.kdeplot(data=dot_embed_charge, x='dot_high_res', hue='charge',\n",
    "            palette='Set1', legend=False, common_norm=False, fill=True,\n",
    "            ax=jg.ax_marg_x)\n",
    "sns.kdeplot(data=dot_embed_charge, y='scores_embed', hue='charge',\n",
    "            palette='Set1', legend=False, common_norm=False, fill=True,\n",
    "            ax=jg.ax_marg_y)\n",
    "\n",
    "jg.ax_joint.legend(loc='upper right', title='Precursor charge')\n",
    "jg.set_axis_labels('Spectrum dot product', 'Embedded euclidean distance')\n",
    "\n",
    "plt.savefig('dot_vs_dist_charge.png', dpi=300, bbox_inches='tight')\n",
    "plt.show()\n",
    "plt.close()"
   ]
  },
  {
   "cell_type": "code",
   "execution_count": null,
   "metadata": {},
   "outputs": [],
   "source": [
    "height = 7\n",
    "\n",
    "jg = sns.JointGrid(height=height)\n",
    "sns.scatterplot(data=dot_embed, x='dot_high_res', y='scores_embed',\n",
    "                alpha=0.1, s=1, c=dot_embed['mz'], marker='.',\n",
    "                cmap=plt.cm.get_cmap('YlGnBu'), rasterized=True,\n",
    "                ax=jg.ax_joint)\n",
    "sns.kdeplot(data=dot_embed, x='dot_high_res', color='black', legend=False,\n",
    "            common_norm=False, fill=True, ax=jg.ax_marg_x)\n",
    "sns.kdeplot(data=dot_embed, y='scores_embed', color='black', legend=False,\n",
    "            common_norm=False, fill=True, ax=jg.ax_marg_y)\n",
    "\n",
    "ax_joint_pos = jg.ax_joint.get_position()\n",
    "cbar_ax = jg.fig.add_axes([1.025, ax_joint_pos.x0 + 0.05,\n",
    "                           0.025, ax_joint_pos.height - 0.1])\n",
    "colorbar = jg.fig.colorbar(jg.ax_joint.get_children()[0], cax=cbar_ax)\n",
    "colorbar.solids.set(alpha=1)\n",
    "colorbar.set_label('Precursor m/z', size='large', labelpad=15)\n",
    "\n",
    "jg.set_axis_labels('Spectrum dot product', 'Embedded euclidean distance')\n",
    "\n",
    "plt.savefig('dot_vs_dist_mz.png', dpi=300, bbox_inches='tight')\n",
    "plt.show()\n",
    "plt.close()"
   ]
  },
  {
   "cell_type": "markdown",
   "metadata": {},
   "source": [
    "### AU(C)ROC plots"
   ]
  },
  {
   "cell_type": "code",
   "execution_count": null,
   "metadata": {},
   "outputs": [],
   "source": [
    "def concentrate_fpr(fpr, alpha):\n",
    "    return (1 - np.exp(-alpha * fpr)) / (1 - np.exp(-alpha))"
   ]
  },
  {
   "cell_type": "code",
   "execution_count": null,
   "metadata": {},
   "outputs": [],
   "source": [
    "alpha = 14"
   ]
  },
  {
   "cell_type": "code",
   "execution_count": null,
   "metadata": {},
   "outputs": [],
   "source": [
    "width = 7\n",
    "# height = width / 1.618\n",
    "fig, ax = plt.subplots(figsize=(width, width))\n",
    "\n",
    "fpr_high_res, tpr_high_res, _ = roc_curve(dot_embed['label'],\n",
    "                                          dot_embed['dot_high_res'])\n",
    "croc_fpr_high_res = concentrate_fpr(fpr_high_res, alpha)\n",
    "ax.plot(croc_fpr_high_res, tpr_high_res,\n",
    "        label=f'Dot product high res '\n",
    "              f'(AUCROC = {auc(croc_fpr_high_res, tpr_high_res):.2%})')\n",
    "\n",
    "fpr_low_res, tpr_low_res, _ = roc_curve(dot_embed['label'],\n",
    "                                        dot_embed['dot_low_res'])\n",
    "croc_fpr_low_res = concentrate_fpr(fpr_low_res, alpha)\n",
    "ax.plot(croc_fpr_low_res, tpr_low_res,\n",
    "        label=f'Dot product low res '\n",
    "              f'(AUCROC = {auc(croc_fpr_low_res, tpr_low_res):.2%})')\n",
    "\n",
    "fpr_embed, tpr_embed, _ = roc_curve(\n",
    "    dot_embed['label'],\n",
    "    1 - dot_embed['scores_embed'] / dot_embed['scores_embed'].max())\n",
    "croc_fpr_embed = concentrate_fpr(fpr_embed, alpha)\n",
    "ax.plot(croc_fpr_embed, tpr_embed,\n",
    "        label=f'Embedding '\n",
    "              f'(AUCROC = {auc(croc_fpr_embed, tpr_embed):.2%})')\n",
    "\n",
    "ax.plot(concentrate_fpr(np.arange(0, 1.01, 0.01), alpha),\n",
    "        np.arange(0, 1.01, 0.01), color='black', linestyle='--')\n",
    "\n",
    "ax.set_xlim([-0.05, 1.05])\n",
    "ax.set_ylim([-0.05, 1.05])\n",
    "\n",
    "ax.set_xlabel('Concentrated false positive rate')\n",
    "ax.set_ylabel('True positive rate')\n",
    "\n",
    "ax.legend(loc='lower center', bbox_to_anchor=(0.5, -0.3))\n",
    "\n",
    "sns.despine()\n",
    "\n",
    "plt.savefig('aucroc_dot.png', dpi=300, bbox_inches='tight')\n",
    "plt.show()\n",
    "plt.close()"
   ]
  },
  {
   "cell_type": "code",
   "execution_count": null,
   "metadata": {},
   "outputs": [],
   "source": [
    "width = 7\n",
    "# height = width / 1.618\n",
    "fig, ax = plt.subplots(figsize=(width, width))\n",
    "\n",
    "ax.plot(fpr_high_res, tpr_high_res,\n",
    "        label=f'Dot product high res '\n",
    "              f'(AUROC = {auc(fpr_high_res, tpr_high_res):.2%})')\n",
    "\n",
    "ax.plot(fpr_low_res, tpr_low_res,\n",
    "        label=f'Dot product low res '\n",
    "              f'(AUROC = {auc(fpr_low_res, tpr_low_res):.2%})')\n",
    "\n",
    "ax.plot(fpr_embed, tpr_embed,\n",
    "        label=f'Embedding '\n",
    "              f'(AUROC = {auc(fpr_embed, tpr_embed):.2%})')\n",
    "\n",
    "ax.plot(np.arange(0, 1.01, 0.01), np.arange(0, 1.01, 0.01),\n",
    "        color='black', linestyle='--')\n",
    "\n",
    "ax.set_xlim([-0.05, 1.05])\n",
    "ax.set_ylim([-0.05, 1.05])\n",
    "\n",
    "ax.set_xlabel('False positive rate')\n",
    "ax.set_ylabel('True positive rate')\n",
    "\n",
    "ax.legend(loc='lower center', bbox_to_anchor=(0.5, -0.3))\n",
    "\n",
    "sns.despine()\n",
    "\n",
    "plt.savefig('auroc_dot.png', dpi=300, bbox_inches='tight')\n",
    "plt.show()\n",
    "plt.close()"
   ]
  },
  {
   "cell_type": "code",
   "execution_count": null,
   "metadata": {},
   "outputs": [],
   "source": [
    "logging.shutdown()"
   ]
  }
 ],
 "metadata": {
  "kernelspec": {
   "display_name": "Python 3",
   "language": "python",
   "name": "python3"
  },
  "language_info": {
   "codemirror_mode": {
    "name": "ipython",
    "version": 3
   },
   "file_extension": ".py",
   "mimetype": "text/x-python",
   "name": "python",
   "nbconvert_exporter": "python",
   "pygments_lexer": "ipython3",
   "version": "3.8.2"
  }
 },
 "nbformat": 4,
 "nbformat_minor": 2
}
