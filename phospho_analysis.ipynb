{
 "cells": [
  {
   "cell_type": "code",
   "execution_count": null,
   "metadata": {},
   "outputs": [],
   "source": [
    "import os\n",
    "import sys\n",
    "os.environ['GLEAMS_HOME'] = os.path.join(\n",
    "    os.environ['HOME'], 'Projects', 'gleams')\n",
    "# Make sure all code is in the PATH.\n",
    "src_dir = os.path.normpath(os.path.join(os.environ['GLEAMS_HOME'], 'src'))\n",
    "if src_dir not in sys.path:\n",
    "    sys.path.append(src_dir)"
   ]
  },
  {
   "cell_type": "code",
   "execution_count": null,
   "metadata": {},
   "outputs": [],
   "source": [
    "import pyteomics.mzid"
   ]
  },
  {
   "cell_type": "code",
   "execution_count": null,
   "metadata": {},
   "outputs": [],
   "source": [
    "# Initialize logging.\n",
    "from gleams import logger as glogger\n",
    "glogger.init()\n",
    "# Initialize all random seeds before importing any packages.\n",
    "from gleams import rndm\n",
    "rndm.set_seeds()\n",
    "\n",
    "from gleams import config\n",
    "from gleams.feature import feature\n",
    "from gleams.nn import nn"
   ]
  },
  {
   "cell_type": "markdown",
   "metadata": {},
   "source": [
    "## Download data from PRIDE"
   ]
  },
  {
   "cell_type": "code",
   "execution_count": null,
   "metadata": {},
   "outputs": [],
   "source": [
    "%%bash\n",
    "\n",
    "wget --timestamping --retry-connrefused \\\n",
    "    --directory-prefix=$GLEAMS_HOME/data/peak/PXD015575 --passive-ftp \\\n",
    "    ftp://ftp.pride.ebi.ac.uk/pride/data/archive/2019/11/PXD015575/*"
   ]
  },
  {
   "cell_type": "code",
   "execution_count": null,
   "metadata": {},
   "outputs": [],
   "source": [
    "%%bash\n",
    "\n",
    "for raw_file in $GLEAMS_HOME/data/peak/PXD015575/*.raw; do\n",
    "    if [ ! -f $GLEAMS_HOME/data/peak/PXD015575/$(basename $raw_file .raw).mzML.gz ]; then\n",
    "        ThermoRawFileParser -i $raw_file -o $GLEAMS_HOME/data/peak/PXD015575 -f 2 -g\n",
    "    fi\n",
    "done"
   ]
  },
  {
   "cell_type": "markdown",
   "metadata": {},
   "source": [
    "## Embed with GLEAMS"
   ]
  },
  {
   "cell_type": "code",
   "execution_count": null,
   "metadata": {},
   "outputs": [],
   "source": [
    "def _get_modified_sequence(series):\n",
    "    sequence, mods = series['PeptideSequence'], series['Modification']\n",
    "    mods = {mod['location']: str(round(mod['monoisotopicMassDelta'], 3))\n",
    "            for mod in mods}\n",
    "    sequence_mod = []\n",
    "    if 0 in mods:\n",
    "        sequence_mod.append(f'+{mods[0]}')\n",
    "    for i, aa in enumerate(sequence, 1):\n",
    "        sequence_mod.append(aa)\n",
    "        if i in mods:\n",
    "            sequence_mod.append(f'+{mods[i]}')\n",
    "    if len(sequence) + 1 in mods:\n",
    "        sequence_mod.append(f'+{mods[len(sequence) + 1]}')\n",
    "    return ''.join(sequence_mod)"
   ]
  },
  {
   "cell_type": "code",
   "execution_count": null,
   "metadata": {},
   "outputs": [],
   "source": [
    "# Read all PSMs from the mzIdentML files.\n",
    "data_dir = os.path.join(os.environ['GLEAMS_HOME'], 'data', 'peak',\n",
    "                        'PXD015575')\n",
    "filenames = [os.path.join(data_dir, filename)\n",
    "             for filename in os.listdir(data_dir)\n",
    "             if filename.endswith('.mzIdentML')]\n",
    "psms = pyteomics.mzid.DataFrame(\n",
    "    *filenames, recursive=True, retrieve_refs=True, iterative=False,\n",
    "    read_schema=False, build_id_cache=False)\n",
    "# Combine peptide sequence and modifications.\n",
    "psms['sequence'] = psms[['PeptideSequence', 'Modification']].apply(\n",
    "    _get_modified_sequence, 'columns')\n",
    "# Apply FDR to filter invalid PSMs.\n",
    "psms = psms[psms['passThreshold'] & ~psms['isDecoy']]\n",
    "# Convert to metadata table.\n",
    "metadata = psms[['name', 'scan number(s)', 'chargeState',\n",
    "                 'experimentalMassToCharge', 'sequence']].rename(\n",
    "    columns={'name': 'filename', 'scan number(s)': 'scan',\n",
    "             'chargeState': 'charge', 'experimentalMassToCharge': 'mz'})\n",
    "metadata['dataset'] = 'PXD015575'\n",
    "metadata['filename'] = metadata['filename'].str.split(\n",
    "    r'_wPhosSequest\\.\\d+\\.\\d+').str[0] + '.mzML.gz'\n",
    "metadata['scan'] = metadata['scan'].astype(int)\n",
    "metadata = metadata[['dataset', 'filename', 'scan', 'sequence', 'charge',\n",
    "                     'mz']]\n",
    "# Export metadata file.\n",
    "filename_metadata = os.path.join(os.environ['GLEAMS_HOME'], 'data',\n",
    "                                 'metadata', 'metadata_PXD015575.parquet')\n",
    "metadata.to_parquet(filename_metadata, index=False)"
   ]
  },
  {
   "cell_type": "code",
   "execution_count": null,
   "metadata": {},
   "outputs": [],
   "source": [
    "# Encode and embed the spectra.\n",
    "feature.convert_peaks_to_features(filename_metadata)\n",
    "nn.embed(filename_metadata, config.model_filename, config.charges)"
   ]
  }
 ],
 "metadata": {
  "kernelspec": {
   "display_name": "Python 3",
   "language": "python",
   "name": "python3"
  },
  "language_info": {
   "codemirror_mode": {
    "name": "ipython",
    "version": 3
   },
   "file_extension": ".py",
   "mimetype": "text/x-python",
   "name": "python",
   "nbconvert_exporter": "python",
   "pygments_lexer": "ipython3",
   "version": "3.8.2"
  }
 },
 "nbformat": 4,
 "nbformat_minor": 4
}
