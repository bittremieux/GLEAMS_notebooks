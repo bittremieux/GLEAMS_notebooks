{
 "cells": [
  {
   "cell_type": "markdown",
   "metadata": {},
   "source": [
    "# Reference spectra selection using submodular selection"
   ]
  },
  {
   "cell_type": "markdown",
   "metadata": {},
   "source": [
    "- Randomly select 1000 files from the training split of the MassIVE-KB data set.\n",
    "- Randomly subsample to 200,000 spectra.\n",
    "- Compute a pairwise dot product similarity matrix for those 200,000 spectra using the peak-to-peak normalized dot product.\n",
    "- Perform submodular selection using the facility location function to select the 500 best reference spectra.\n",
    "- UMAP plot using the pairwise similarity matrix."
   ]
  },
  {
   "cell_type": "code",
   "execution_count": null,
   "metadata": {},
   "outputs": [],
   "source": [
    "import os\n",
    "import sys\n",
    "os.environ['GLEAMS_HOME'] = os.path.join(\n",
    "    os.environ['HOME'], 'Projects', 'gleams')\n",
    "# Make sure all code is in the PATH.\n",
    "src_dir = os.path.normpath(os.path.join(os.environ['GLEAMS_HOME'], 'src'))\n",
    "if src_dir not in sys.path:\n",
    "    sys.path.append(src_dir)"
   ]
  },
  {
   "cell_type": "code",
   "execution_count": null,
   "metadata": {},
   "outputs": [],
   "source": [
    "import copy\n",
    "\n",
    "import apricot\n",
    "import joblib\n",
    "import matplotlib.pyplot as plt\n",
    "import numba as nb\n",
    "import numpy as np\n",
    "import pandas as pd\n",
    "import pyteomics\n",
    "import seaborn as sns\n",
    "import umap"
   ]
  },
  {
   "cell_type": "code",
   "execution_count": null,
   "metadata": {},
   "outputs": [],
   "source": [
    "import warnings\n",
    "warnings.simplefilter(action='ignore', category=FutureWarning)"
   ]
  },
  {
   "cell_type": "code",
   "execution_count": null,
   "metadata": {},
   "outputs": [],
   "source": [
    "# Initialize logging.\n",
    "from gleams import logger as glogger\n",
    "glogger.init()\n",
    "# Initialize all random seeds before importing any packages.\n",
    "from gleams import rndm\n",
    "rndm.set_seeds()\n",
    "\n",
    "from gleams import config\n",
    "from gleams.feature import spectrum\n",
    "from gleams.ms_io import ms_io"
   ]
  },
  {
   "cell_type": "code",
   "execution_count": null,
   "metadata": {},
   "outputs": [],
   "source": [
    "import logging\n",
    "logger = logging.getLogger('gleams')\n",
    "logger.setLevel(logging.DEBUG)"
   ]
  },
  {
   "cell_type": "code",
   "execution_count": null,
   "metadata": {},
   "outputs": [],
   "source": [
    "# Plot styling.\n",
    "plt.style.use(['seaborn-white', 'seaborn-paper'])\n",
    "plt.rc('font', family='serif')\n",
    "sns.set_palette('Set1')\n",
    "sns.set_context(font_scale=1.3)    # Single-column figure."
   ]
  },
  {
   "cell_type": "code",
   "execution_count": null,
   "metadata": {},
   "outputs": [],
   "source": [
    "num_files = 1000\n",
    "num_spectra = 200000\n",
    "num_ref_spectra = 1000"
   ]
  },
  {
   "cell_type": "code",
   "execution_count": null,
   "metadata": {},
   "outputs": [],
   "source": [
    "peak_dir = os.path.join(os.environ['GLEAMS_HOME'], 'data', 'peak')"
   ]
  },
  {
   "cell_type": "code",
   "execution_count": null,
   "metadata": {},
   "outputs": [],
   "source": [
    "split = 'train'\n",
    "filenames = (\n",
    "    pd.read_parquet(config.metadata_filename.replace(\n",
    "        '.parquet', f'_{split}.parquet'), columns=['dataset', 'filename'])\n",
    "    .drop_duplicates())"
   ]
  },
  {
   "cell_type": "code",
   "execution_count": null,
   "metadata": {},
   "outputs": [],
   "source": [
    "filenames_selected = filenames.sample(min(len(filenames), num_files))"
   ]
  },
  {
   "cell_type": "code",
   "execution_count": null,
   "metadata": {},
   "outputs": [],
   "source": [
    "def get_spectra_from_file(dataset: str, filename: str):\n",
    "    logger.debug('Process file %s/%s', dataset, filename)\n",
    "    spectra, spectra_raw = [], []\n",
    "    peak_filename = os.path.join(os.environ['GLEAMS_HOME'], 'data', 'peak',\n",
    "                                 dataset, filename)\n",
    "    if not os.path.isfile(peak_filename):\n",
    "        logger.warning('Missing peak file %s, no spectra read',\n",
    "                       peak_filename)\n",
    "    else:\n",
    "        for spec in ms_io.get_spectra(peak_filename):\n",
    "            spec.dataset = dataset\n",
    "            spec.filename = filename\n",
    "            spec_raw = copy.deepcopy(spec)\n",
    "            if spectrum.preprocess(spec, config.fragment_mz_min,\n",
    "                                   config.fragment_mz_max).is_valid:\n",
    "                spectra.append(spec)\n",
    "                spectra_raw.append(spec_raw)\n",
    "    return spectra, spectra_raw"
   ]
  },
  {
   "cell_type": "code",
   "execution_count": null,
   "metadata": {},
   "outputs": [],
   "source": [
    "logger.info('Read spectrum files')\n",
    "spectra, spectra_raw = [], []\n",
    "for file_spectra, file_spectra_raw in joblib.Parallel(\n",
    "        n_jobs=-1, backend='multiprocessing')(\n",
    "        joblib.delayed(get_spectra_from_file)(dataset, filename)\n",
    "        for dataset, filename in zip(filenames_selected['dataset'],\n",
    "                                     filenames_selected['filename'])):\n",
    "    spectra.extend(file_spectra)\n",
    "    spectra_raw.extend(file_spectra_raw)"
   ]
  },
  {
   "cell_type": "code",
   "execution_count": null,
   "metadata": {},
   "outputs": [],
   "source": [
    "idx = np.random.choice(len(spectra), min(num_spectra, len(spectra)), False)\n",
    "spectra_selected = np.asarray(spectra)[idx]\n",
    "spectra_raw_selected = np.asarray(spectra_raw)[idx]\n",
    "logger.info('%d spectra randomly downsampled to %d spectra', len(spectra),\n",
    "            num_spectra)"
   ]
  },
  {
   "cell_type": "code",
   "execution_count": null,
   "metadata": {},
   "outputs": [],
   "source": [
    "joblib.dump(spectra_selected, 'ref_spectra_selected.joblib')\n",
    "joblib.dump(spectra_raw_selected, 'ref_spectra_selected_raw.joblib')"
   ]
  },
  {
   "cell_type": "code",
   "execution_count": null,
   "metadata": {},
   "outputs": [],
   "source": [
    "# spectra_selected = joblib.load('ref_spectra_selected.joblib')\n",
    "# spectra_raw_selected = joblib.load('ref_spectra_selected_raw.joblib')"
   ]
  },
  {
   "cell_type": "code",
   "execution_count": null,
   "metadata": {},
   "outputs": [],
   "source": [
    "def pairwise_dot(spectra_arr, out):\n",
    "    pairwise_dot_nb(spectra_arr, out)\n",
    "    # Guard against numerical instability.\n",
    "    return np.clip(out, 0, 1, out)\n",
    "\n",
    "@nb.njit(parallel=True)\n",
    "def pairwise_dot_nb(spectra_arr, out):\n",
    "    for i in nb.prange(spectra_arr.shape[0]):\n",
    "        for j in range(i + 1, spectra_arr.shape[0]):\n",
    "            out[i, j] = out[j, i] = spectrum.dot(\n",
    "                spectra_arr[i, 0], spectra_arr[i, 1],\n",
    "                spectra_arr[j, 0], spectra_arr[j, 1],\n",
    "                config.fragment_mz_tol)\n",
    "    np.fill_diagonal(out, 1)"
   ]
  },
  {
   "cell_type": "code",
   "execution_count": null,
   "metadata": {},
   "outputs": [],
   "source": [
    "spectra_arr = np.asarray([\n",
    "    np.pad([spec.mz, spec.intensity],\n",
    "           ((0, 0), (config.max_peaks_used - len(spec.mz), 0)), 'constant')\n",
    "    for spec in spectra_selected])"
   ]
  },
  {
   "cell_type": "code",
   "execution_count": null,
   "metadata": {},
   "outputs": [],
   "source": [
    "logger.info('Compute pairwise dot products between all spectra')\n",
    "dot_products = pairwise_dot(spectra_arr, np.zeros((num_spectra, num_spectra),\n",
    "                                                  np.float32))"
   ]
  },
  {
   "cell_type": "code",
   "execution_count": null,
   "metadata": {},
   "outputs": [],
   "source": [
    "joblib.dump(dot_products, 'ref_spectra_pairwise_dot.joblib')"
   ]
  },
  {
   "cell_type": "code",
   "execution_count": null,
   "metadata": {},
   "outputs": [],
   "source": [
    "# dot_products = joblib.load('ref_spectra_pairwise_dot.joblib')"
   ]
  },
  {
   "cell_type": "code",
   "execution_count": null,
   "metadata": {},
   "outputs": [],
   "source": [
    "logger.info('Select %d reference spectra from %d spectra using the facility '\n",
    "            'location function', num_ref_spectra, dot_products.shape[0])\n",
    "selector = (apricot.FacilityLocationSelection(num_ref_spectra, 'precomputed',\n",
    "                                              n_jobs=-1)\n",
    "            .fit(dot_products))"
   ]
  },
  {
   "cell_type": "code",
   "execution_count": null,
   "metadata": {},
   "outputs": [],
   "source": [
    "joblib.dump(selector, 'ref_spectra_submodular_selector.joblib')"
   ]
  },
  {
   "cell_type": "code",
   "execution_count": null,
   "metadata": {},
   "outputs": [],
   "source": [
    "# selector = joblib.load('ref_spectra_submodular_selector.joblib')"
   ]
  },
  {
   "cell_type": "code",
   "execution_count": null,
   "metadata": {},
   "outputs": [],
   "source": [
    "logger.info('Export the selected reference spectra to an MGF file')\n",
    "f_out = pyteomics.mgf.write(\n",
    "    [{'m/z array': spec.mz, 'intensity array': spec.intensity, 'params': {\n",
    "        'title': f'mzspec:{spec.dataset}:'\n",
    "                 f'{os.path.splitext(spec.filename)[0]}:'\n",
    "                 f'scan:{spec.identifier}',\n",
    "        'rtinseconds': spec.retention_time,\n",
    "        'pepmass': (spec.precursor_mz, None),\n",
    "        'charge': spec.precursor_charge}}\n",
    "     for i, spec in enumerate(spectra_raw_selected[selector.ranking])],\n",
    "    'gleams_reference_spectra.mgf', file_mode='w')\n",
    "f_out.close()"
   ]
  },
  {
   "cell_type": "code",
   "execution_count": null,
   "metadata": {},
   "outputs": [],
   "source": [
    "logger.info('UMAP plot submodular selection')\n",
    "embedding = (umap.UMAP(n_neighbors=5, metric='precomputed')\n",
    "             .fit_transform(1 - dot_products))"
   ]
  },
  {
   "cell_type": "code",
   "execution_count": null,
   "metadata": {},
   "outputs": [],
   "source": [
    "joblib.dump(embedding, 'ref_spectra_umap.joblib')"
   ]
  },
  {
   "cell_type": "code",
   "execution_count": null,
   "metadata": {},
   "outputs": [],
   "source": [
    "# embedding = joblib.load('ref_spectra_umap.joblib')"
   ]
  },
  {
   "cell_type": "code",
   "execution_count": null,
   "metadata": {},
   "outputs": [],
   "source": [
    "width = 7\n",
    "# height = width / 1.618\n",
    "fig, ax = plt.subplots(figsize=(width, width))\n",
    "\n",
    "ax.scatter(embedding[:, 0], embedding[:, 1], s=1, c='lightgray', alpha=0.1,\n",
    "           rasterized=True)\n",
    "sc = ax.scatter(embedding[selector.ranking, 0],\n",
    "                embedding[selector.ranking, 1],\n",
    "                s=10, c=np.arange(num_ref_spectra), cmap='YlGnBu',\n",
    "                alpha=0.75, rasterized=True)\n",
    "\n",
    "ax.set_xlabel('UMAP1', size='large')\n",
    "ax.set_ylabel('UMAP2', size='large')\n",
    "ax.xaxis.set_ticks([])\n",
    "ax.yaxis.set_ticks([])\n",
    "sns.despine(left=True, bottom=True)\n",
    "\n",
    "cbar_ax = fig.add_axes([0.95, 0.25, 0.025, 0.5])\n",
    "colorbar = fig.colorbar(sc, ticks=np.arange(0, num_ref_spectra + 1, 100),\n",
    "                        boundaries=np.arange(0, num_ref_spectra + 1, 1),\n",
    "                        cax=cbar_ax)\n",
    "colorbar.set_label('Submodular selection order', size='large', labelpad=15)\n",
    "\n",
    "plt.savefig('ref_spectra_umap.png', dpi=300, bbox_inches='tight')\n",
    "plt.show()\n",
    "plt.close()"
   ]
  },
  {
   "cell_type": "code",
   "execution_count": null,
   "metadata": {},
   "outputs": [],
   "source": [
    "logging.shutdown()"
   ]
  }
 ],
 "metadata": {
  "kernelspec": {
   "display_name": "Python 3",
   "language": "python",
   "name": "python3"
  },
  "language_info": {
   "codemirror_mode": {
    "name": "ipython",
    "version": 3
   },
   "file_extension": ".py",
   "mimetype": "text/x-python",
   "name": "python",
   "nbconvert_exporter": "python",
   "pygments_lexer": "ipython3",
   "version": "3.8.2"
  }
 },
 "nbformat": 4,
 "nbformat_minor": 2
}
