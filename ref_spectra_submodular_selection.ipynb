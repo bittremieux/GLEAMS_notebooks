{
 "cells": [
  {
   "cell_type": "markdown",
   "metadata": {},
   "source": [
    "# Reference spectra"
   ]
  },
  {
   "cell_type": "markdown",
   "metadata": {},
   "source": [
    "## Submodular selection overview\n",
    "\n",
    "- Randomly select 1000 files from the MassIVE-KB input files = 24,076,639 spectra\n",
    "- Randomly subsample to 200,000 spectra\n",
    "- Compute a pairwise distance matrix for those 200,000 spectra using a peak-to-peak normalized dot product\n",
    "- Perform submodular selection using the facility location function to select the 500 best reference spectra\n",
    "- UMAP plot using the pairwise distance matrix"
   ]
  },
  {
   "cell_type": "code",
   "execution_count": null,
   "metadata": {},
   "outputs": [],
   "source": [
    "import os\n",
    "import sys\n",
    "\n",
    "# Cluster.\n",
    "# src_dir = os.path.abspath(f'{os.environ[\"HOME\"]}/projects/gleams/src')\n",
    "# Laptop.\n",
    "src_dir = os.path.abspath(f'{os.environ[\"HOME\"]}/Projects/gleams/src')\n",
    "if src_dir not in sys.path:\n",
    "    sys.path.append(src_dir)"
   ]
  },
  {
   "cell_type": "code",
   "execution_count": null,
   "metadata": {},
   "outputs": [],
   "source": [
    "import copy\n",
    "import logging\n",
    "\n",
    "import joblib\n",
    "import matplotlib.pyplot as plt\n",
    "import numba as nb\n",
    "import numpy as np\n",
    "import pandas as pd\n",
    "import seaborn as sns\n",
    "import tqdm\n",
    "import umap\n",
    "from apricot import FacilityLocationSelection\n",
    "from pyteomics import mgf\n",
    "\n",
    "from gleams import config\n",
    "from gleams.embed import encoder\n",
    "from gleams.embed import spectrum\n",
    "from gleams.io import ms_io"
   ]
  },
  {
   "cell_type": "code",
   "execution_count": null,
   "metadata": {},
   "outputs": [],
   "source": [
    "tqdm.tqdm = tqdm.tqdm_notebook"
   ]
  },
  {
   "cell_type": "code",
   "execution_count": null,
   "metadata": {},
   "outputs": [],
   "source": [
    "logging.basicConfig(level=logging.INFO,\n",
    "                    format='%(asctime)s %(levelname)s: %(message)s')\n",
    "\n",
    "# Plot styling.\n",
    "plt.style.use(['seaborn-white', 'seaborn-paper'])\n",
    "plt.rc('font', family='serif')\n",
    "sns.set_palette('Set1')\n",
    "sns.set_context(font_scale=1.3)    # single-column figure"
   ]
  },
  {
   "cell_type": "code",
   "execution_count": null,
   "metadata": {},
   "outputs": [],
   "source": [
    "np.random.seed(42)"
   ]
  },
  {
   "cell_type": "code",
   "execution_count": null,
   "metadata": {},
   "outputs": [],
   "source": [
    "num_files = 1000\n",
    "num_spectra = 200000\n",
    "num_ref_spectra = 500"
   ]
  },
  {
   "cell_type": "code",
   "execution_count": null,
   "metadata": {},
   "outputs": [],
   "source": [
    "data_dir = '/net/noble/vol3/user/wout/gleams/data'"
   ]
  },
  {
   "cell_type": "code",
   "execution_count": null,
   "metadata": {},
   "outputs": [],
   "source": [
    "filenames = [os.path.join(data_dir, filename)\n",
    "             for filename in os.listdir(data_dir)\n",
    "             if filename.lower().endswith(('.mzml', '.mzxml',\n",
    "                                           '.mzml.xz', 'mzxml.xz'))]"
   ]
  },
  {
   "cell_type": "code",
   "execution_count": null,
   "metadata": {},
   "outputs": [],
   "source": [
    "filenames_selected = np.asarray(filenames)[\n",
    "    np.random.choice(len(filenames), num_files, False)]"
   ]
  },
  {
   "cell_type": "code",
   "execution_count": null,
   "metadata": {},
   "outputs": [],
   "source": [
    "logging.info('Read spectrum files')\n",
    "spectra, spectra_raw = [], []\n",
    "for file_i, spec_file in enumerate(filenames_selected, 1):\n",
    "    basename = os.path.basename(spec_file)\n",
    "    logging.info('Processing file %s [%d/%d]', basename, file_i,\n",
    "                 len(filenames_selected))\n",
    "    for spec in tqdm.tqdm(ms_io.get_spectra(spec_file), desc='Spectra read',\n",
    "                          leave=False, unit='spectra'):\n",
    "        spec.filename = basename\n",
    "        spec_raw = copy.deepcopy(spec)\n",
    "        if spectrum.preprocess(spec, config.fragment_mz_min,\n",
    "                               config.fragment_mz_max).is_valid:\n",
    "            spectra.append(spec)\n",
    "            spectra_raw.append(spec_raw)"
   ]
  },
  {
   "cell_type": "code",
   "execution_count": null,
   "metadata": {},
   "outputs": [],
   "source": [
    "idx = np.random.choice(len(spectra), num_spectra, False)\n",
    "spectra_selected = np.asarray(spectra)[idx]\n",
    "spectra_raw_selected = np.asarray(spectra_raw)[idx]\n",
    "logging.info('%d spectra downsampled to %d spectra', len(spectra),\n",
    "             num_spectra)"
   ]
  },
  {
   "cell_type": "code",
   "execution_count": null,
   "metadata": {},
   "outputs": [],
   "source": [
    "joblib.dump(spectra_selected, 'spectra_selected.joblib')\n",
    "joblib.dump(spectra_raw_selected, 'spectra_raw_selected.joblib')"
   ]
  },
  {
   "cell_type": "code",
   "execution_count": null,
   "metadata": {},
   "outputs": [],
   "source": [
    "# spectra_selected = joblib.load('spectra_selected.joblib')\n",
    "# spectra_raw_selected = joblib.load('spectra_raw_selected.joblib')"
   ]
  },
  {
   "cell_type": "code",
   "execution_count": null,
   "metadata": {},
   "outputs": [],
   "source": [
    "def pairwise_distances(spectra_arr, out):\n",
    "    pairwise_distances_nb(spectra_arr, out)\n",
    "    # Guard against numerical instability.\n",
    "    return np.clip(out, 0, 1, out)\n",
    "\n",
    "@nb.njit(parallel=True)\n",
    "def pairwise_distances_nb(spectra_arr, out):\n",
    "    for i in nb.prange(spectra_arr.shape[0]):\n",
    "        for j in range(i + 1, spectra_arr.shape[0]):\n",
    "            out[i, j] = out[j, i] = spectrum.dot(\n",
    "                spectra_arr[i, 0], spectra_arr[i, 1],\n",
    "                spectra_arr[j, 0], spectra_arr[j, 1],\n",
    "                config.fragment_mz_tol)\n",
    "    np.fill_diagonal(out, 1)"
   ]
  },
  {
   "cell_type": "code",
   "execution_count": null,
   "metadata": {},
   "outputs": [],
   "source": [
    "max_len = config.max_peaks_used\n",
    "spectra_arr = np.asarray([\n",
    "    np.pad([spec.mz, spec.intensity], ((0, 0), (max_len - len(spec.mz), 0)),\n",
    "           'constant') for spec in spectra_selected])"
   ]
  },
  {
   "cell_type": "code",
   "execution_count": null,
   "metadata": {},
   "outputs": [],
   "source": [
    "logging.info('Compute pairwise distances')\n",
    "dist = np.zeros((num_spectra, num_spectra), np.float32)\n",
    "dist = pairwise_distances(spectra_arr, dist)"
   ]
  },
  {
   "cell_type": "code",
   "execution_count": null,
   "metadata": {},
   "outputs": [],
   "source": [
    "joblib.dump(dist, 'pairwise_distances.joblib')"
   ]
  },
  {
   "cell_type": "code",
   "execution_count": null,
   "metadata": {},
   "outputs": [],
   "source": [
    "# dist = joblib.load('pairwise_distances.joblib')"
   ]
  },
  {
   "cell_type": "code",
   "execution_count": null,
   "metadata": {},
   "outputs": [],
   "source": [
    "logging.info('Perform submodular selection')\n",
    "selector = FacilityLocationSelection(num_ref_spectra, 'precomputed')\n",
    "selector.fit(dist)"
   ]
  },
  {
   "cell_type": "code",
   "execution_count": null,
   "metadata": {},
   "outputs": [],
   "source": [
    "joblib.dump(selector, 'submodular_selector.joblib')"
   ]
  },
  {
   "cell_type": "code",
   "execution_count": null,
   "metadata": {},
   "outputs": [],
   "source": [
    "# selector = joblib.load('submodular_selector.joblib')"
   ]
  },
  {
   "cell_type": "code",
   "execution_count": null,
   "metadata": {},
   "outputs": [],
   "source": [
    "logging.info('Export selected reference spectra to MGF')\n",
    "metadata = pd.read_csv(\n",
    "    f'{os.environ[\"HOME\"]}/projects/gleams/data/metadata.csv',\n",
    "    usecols=['filename', 'dataset'])\n",
    "metadata.drop_duplicates(inplace=True)\n",
    "metadata.set_index('filename', inplace=True)"
   ]
  },
  {
   "cell_type": "code",
   "execution_count": null,
   "metadata": {},
   "outputs": [],
   "source": [
    "f_out = mgf.write(\n",
    "    [{'m/z array': spec.mz, 'intensity array': spec.intensity, 'params': {\n",
    "        'title': f'mzspec:{metadata.loc[spec.filename, \"dataset\"]}:'\n",
    "                 f'{os.path.splitext(os.path.splitext(spec.filename)[0])[0]}:'\n",
    "                 f'scan:{spec.identifier}',\n",
    "        'rtinseconds': spec.retention_time,\n",
    "        'pepmass': (spec.precursor_mz, None),\n",
    "        'charge': spec.precursor_charge}}\n",
    "     for i, spec in enumerate(spectra_raw_selected[selector.ranking])],\n",
    "    'gleams_reference_spectra.mgf', file_mode='w')\n",
    "f_out.close()"
   ]
  },
  {
   "cell_type": "code",
   "execution_count": null,
   "metadata": {},
   "outputs": [],
   "source": [
    "logging.info('UMAP plot submodular selection')\n",
    "embedding = (umap.UMAP(n_neighbors=5, metric='precomputed', random_state=42)\n",
    "             .fit_transform(1 - dist))"
   ]
  },
  {
   "cell_type": "code",
   "execution_count": null,
   "metadata": {},
   "outputs": [],
   "source": [
    "joblib.dump(embedding, 'umap_embedding.joblib')"
   ]
  },
  {
   "cell_type": "code",
   "execution_count": null,
   "metadata": {},
   "outputs": [],
   "source": [
    "# embedding = joblib.load('umap_embedding.joblib')"
   ]
  },
  {
   "cell_type": "code",
   "execution_count": null,
   "metadata": {},
   "outputs": [],
   "source": [
    "width = 7\n",
    "# height = width / 1.618\n",
    "fig, ax = plt.subplots(figsize=(width, width))\n",
    "\n",
    "ax.scatter(embedding[:, 0], embedding[:, 1], c='lightgray', marker='.',\n",
    "           alpha=0.01)\n",
    "sc = ax.scatter(embedding[selector.ranking, 0],\n",
    "                embedding[selector.ranking, 1],\n",
    "                c=np.arange(num_ref_spectra), cmap='cividis', alpha=0.75)\n",
    "\n",
    "ax.set_xlabel('UMAP dimension 1', size='large')\n",
    "ax.set_ylabel('UMAP dimension 2', size='large')\n",
    "ax.xaxis.set_ticks([])\n",
    "ax.yaxis.set_ticks([])\n",
    "sns.despine(left=True, bottom=True)\n",
    "\n",
    "cbar_ax = fig.add_axes([0.95, 0.25, 0.025, 0.5])\n",
    "colorbar = fig.colorbar(sc, ticks=np.arange(0, num_ref_spectra + 1, 100),\n",
    "                        boundaries=np.arange(0, num_ref_spectra + 1, 1),\n",
    "                        cax=cbar_ax)\n",
    "colorbar.set_label('Submodular selection order', size='large', labelpad=15)\n",
    "\n",
    "plt.savefig('umap_ref_spectra.png', dpi=300, bbox_inches='tight')\n",
    "plt.show()\n",
    "plt.close()"
   ]
  }
 ],
 "metadata": {
  "kernelspec": {
   "display_name": "Python 3",
   "language": "python",
   "name": "python3"
  },
  "language_info": {
   "codemirror_mode": {
    "name": "ipython",
    "version": 3
   },
   "file_extension": ".py",
   "mimetype": "text/x-python",
   "name": "python",
   "nbconvert_exporter": "python",
   "pygments_lexer": "ipython3",
   "version": "3.7.3"
  }
 },
 "nbformat": 4,
 "nbformat_minor": 2
}
