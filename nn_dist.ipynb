{
 "cells": [
  {
   "cell_type": "code",
   "execution_count": null,
   "metadata": {},
   "outputs": [],
   "source": [
    "import os\n",
    "import sys\n",
    "os.environ['GLEAMS_HOME'] = os.path.join(os.environ['HOME'],\n",
    "                                         'Projects/gleams')\n",
    "# Make sure all code is in the PATH.\n",
    "sys.path.append(\n",
    "    os.path.normpath(os.path.join(os.environ['GLEAMS_HOME'], 'src')))"
   ]
  },
  {
   "cell_type": "code",
   "execution_count": null,
   "metadata": {},
   "outputs": [],
   "source": [
    "import math\n",
    "\n",
    "import joblib\n",
    "import matplotlib.pyplot as plt\n",
    "import matplotlib.ticker as mticker\n",
    "import numpy as np\n",
    "import pandas as pd\n",
    "import seaborn as sns\n",
    "import tqdm.notebook as tqdm"
   ]
  },
  {
   "cell_type": "code",
   "execution_count": null,
   "metadata": {},
   "outputs": [],
   "source": [
    "import logging\n",
    "logger = logging.getLogger('gleams')\n",
    "logger.setLevel(logging.DEBUG)"
   ]
  },
  {
   "cell_type": "code",
   "execution_count": null,
   "metadata": {},
   "outputs": [],
   "source": [
    "import warnings\n",
    "warnings.simplefilter(action='ignore', category=FutureWarning)"
   ]
  },
  {
   "cell_type": "code",
   "execution_count": null,
   "metadata": {},
   "outputs": [],
   "source": [
    "from gleams.dag import dag\n",
    "\n",
    "from gleams import config\n",
    "from gleams.cluster import cluster\n",
    "from gleams.nn import nn"
   ]
  },
  {
   "cell_type": "code",
   "execution_count": null,
   "metadata": {},
   "outputs": [],
   "source": [
    "# Plot styling.\n",
    "plt.style.use(['seaborn-white', 'seaborn-paper'])\n",
    "plt.rc('font', family='serif')\n",
    "sns.set_palette('Set1')\n",
    "sns.set_context('paper', font_scale=1.3)    # Single-column figure."
   ]
  },
  {
   "cell_type": "code",
   "execution_count": null,
   "metadata": {},
   "outputs": [],
   "source": [
    "embeddings = np.load(\n",
    "    os.path.join(os.environ['GLEAMS_HOME'], 'data', 'embed',\n",
    "                 f'embed_{config.massivekb_task_id}.npy'),\n",
    "    mmap_mode='r')\n",
    "metadata = pd.merge(\n",
    "    pd.read_parquet(os.path.join(\n",
    "        os.environ['GLEAMS_HOME'], 'data', 'embed',\n",
    "        f'embed_{config.massivekb_task_id}.parquet')),\n",
    "    pd.read_parquet(\n",
    "        os.path.join(os.environ['GLEAMS_HOME'], 'data', 'metadata',\n",
    "                     f'massivekb_ids_{config.massivekb_task_id}.parquet'))\n",
    "    .drop_duplicates(['filename', 'scan']),\n",
    "    'left', ['filename', 'scan'], copy=False).dropna(subset=['sequence'])"
   ]
  },
  {
   "cell_type": "code",
   "execution_count": null,
   "metadata": {},
   "outputs": [],
   "source": [
    "# Build ANN index for efficient nearest neighbor querying.\n",
    "mz = metadata['mz'].sort_values()\n",
    "min_mz, max_mz = math.floor(mz.iat[0]), math.ceil(mz.iat[-1])\n",
    "config.mz_interval = max_mz - min_mz\n",
    "config.precursor_tol_mass, config.precursor_tol_mode = max_mz - min_mz, 'Da'\n",
    "cluster._build_ann_index('nn_dist.faiss', embeddings, mz, [min_mz])"
   ]
  },
  {
   "cell_type": "code",
   "execution_count": null,
   "metadata": {},
   "outputs": [],
   "source": [
    "index = cluster._load_ann_index('nn_dist.faiss', 0)"
   ]
  },
  {
   "cell_type": "code",
   "execution_count": null,
   "metadata": {},
   "outputs": [],
   "source": [
    "num_samples = min(1000000, len(metadata))\n",
    "n_neighbors = 100"
   ]
  },
  {
   "cell_type": "code",
   "execution_count": null,
   "metadata": {},
   "outputs": [],
   "source": [
    "idx_sample = np.random.choice(metadata.index, num_samples, False)"
   ]
  },
  {
   "cell_type": "code",
   "execution_count": null,
   "metadata": {},
   "outputs": [],
   "source": [
    "logger.info('Find the labeled nearest neighbors for %d labeled embeddings',\n",
    "            num_samples)\n",
    "distances, neighbors = [], []\n",
    "batch_size = min(num_samples, config.batch_size_dist)\n",
    "for batch_i in tqdm.tqdm(range(0, num_samples, batch_size),\n",
    "                         desc='Batches processed', leave=False,\n",
    "                         unit='batch'):\n",
    "    batch_start, batch_stop = batch_i, min(batch_i + batch_size, num_samples)\n",
    "    idx_sample_batch = idx_sample[batch_start:batch_stop]\n",
    "    batch_distances, batch_neighbors = index.search(\n",
    "        embeddings[idx_sample_batch], n_neighbors)\n",
    "    distances.extend(batch_distances)\n",
    "    neighbors.extend(batch_neighbors)"
   ]
  },
  {
   "cell_type": "code",
   "execution_count": null,
   "metadata": {},
   "outputs": [],
   "source": [
    "logger.info('Verify whether neighbors have the same peptide label')\n",
    "embed_dist, same_label = [], []\n",
    "for nn_dist, nn_id in tqdm.tqdm(zip(distances, neighbors),\n",
    "                                desc='Embeddings processed', leave=False,\n",
    "                                total=num_samples, unit='emb'):\n",
    "    embed_dist.extend(nn_dist)\n",
    "    labels = metadata.loc[nn_id, 'sequence']\n",
    "    same_label.extend(labels == labels.iat[0])\n",
    "order = np.argsort(embed_dist)\n",
    "embed_dist = np.asarray(embed_dist)[order]\n",
    "same_label = np.asarray(same_label)[order]\n",
    "prop_same_label = np.cumsum(same_label) / np.arange(1, len(same_label) + 1)"
   ]
  },
  {
   "cell_type": "code",
   "execution_count": null,
   "metadata": {},
   "outputs": [],
   "source": [
    "joblib.dump([embed_dist, prop_same_label], 'nn_dist.joblib')"
   ]
  },
  {
   "cell_type": "code",
   "execution_count": null,
   "metadata": {},
   "outputs": [],
   "source": [
    "# embed_dist, prop_same_label = joblib.load('nn_dist.joblib')"
   ]
  },
  {
   "cell_type": "code",
   "execution_count": null,
   "metadata": {},
   "outputs": [],
   "source": [
    "width = 7\n",
    "height = width / 1.618    # golden ratio\n",
    "fig, ax = plt.subplots(figsize=(width, height))\n",
    "\n",
    "ax.plot(embed_dist, prop_same_label)\n",
    "\n",
    "ax.set_xlabel('Embedded distance')\n",
    "ax.set_ylabel('Proportion same label')\n",
    "\n",
    "ax.yaxis.set_major_formatter(mticker.PercentFormatter(1))\n",
    "\n",
    "sns.despine()\n",
    "\n",
    "plt.savefig('nn_dist.png', dpi=300, bbox_inches='tight')\n",
    "plt.show()\n",
    "plt.close()"
   ]
  },
  {
   "cell_type": "code",
   "execution_count": null,
   "metadata": {},
   "outputs": [],
   "source": [
    "logging.shutdown()"
   ]
  }
 ],
 "metadata": {
  "kernelspec": {
   "display_name": "Python 3",
   "language": "python",
   "name": "python3"
  },
  "language_info": {
   "codemirror_mode": {
    "name": "ipython",
    "version": 3
   },
   "file_extension": ".py",
   "mimetype": "text/x-python",
   "name": "python",
   "nbconvert_exporter": "python",
   "pygments_lexer": "ipython3",
   "version": "3.7.5"
  }
 },
 "nbformat": 4,
 "nbformat_minor": 2
}
