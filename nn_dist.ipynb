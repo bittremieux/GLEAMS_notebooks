{
 "cells": [
  {
   "cell_type": "code",
   "execution_count": null,
   "metadata": {},
   "outputs": [],
   "source": [
    "import os\n",
    "import sys\n",
    "os.environ['GLEAMS_HOME'] = os.path.join(os.environ['HOME'],\n",
    "                                         'Projects/gleams')\n",
    "# Make sure all code is in the PATH.\n",
    "sys.path.append(\n",
    "    os.path.normpath(os.path.join(os.environ['GLEAMS_HOME'], 'src')))"
   ]
  },
  {
   "cell_type": "code",
   "execution_count": null,
   "metadata": {},
   "outputs": [],
   "source": [
    "import joblib\n",
    "import matplotlib.pyplot as plt\n",
    "import matplotlib.ticker as mticker\n",
    "import numpy as np\n",
    "import pandas as pd\n",
    "import scipy.sparse as ss\n",
    "import seaborn as sns"
   ]
  },
  {
   "cell_type": "code",
   "execution_count": null,
   "metadata": {},
   "outputs": [],
   "source": [
    "import warnings\n",
    "warnings.simplefilter(action='ignore', category=FutureWarning)"
   ]
  },
  {
   "cell_type": "code",
   "execution_count": null,
   "metadata": {},
   "outputs": [],
   "source": [
    "# Initialize logging.\n",
    "from gleams import logger as glogger\n",
    "glogger.init()\n",
    "# Initialize all random seeds before importing any packages.\n",
    "from gleams import rndm\n",
    "rndm.set_seeds()\n",
    "\n",
    "from gleams import config\n",
    "from gleams.cluster import cluster\n",
    "from gleams.metadata.metadata import _remove_mod"
   ]
  },
  {
   "cell_type": "code",
   "execution_count": null,
   "metadata": {},
   "outputs": [],
   "source": [
    "import logging\n",
    "logger = logging.getLogger('gleams')\n",
    "logger.setLevel(logging.DEBUG)"
   ]
  },
  {
   "cell_type": "code",
   "execution_count": null,
   "metadata": {},
   "outputs": [],
   "source": [
    "# Plot styling.\n",
    "plt.style.use(['seaborn-white', 'seaborn-paper'])\n",
    "plt.rc('font', family='serif')\n",
    "sns.set_palette(['#9e0059', '#6da7de', '#ee266d', '#dee000', '#eb861e'])\n",
    "sns.set_context('paper', font_scale=1.3)    # Single-column figure."
   ]
  },
  {
   "cell_type": "code",
   "execution_count": null,
   "metadata": {},
   "outputs": [],
   "source": [
    "split = 'test'"
   ]
  },
  {
   "cell_type": "code",
   "execution_count": null,
   "metadata": {},
   "outputs": [],
   "source": [
    "cluster.compute_pairwise_distances(\n",
    "    os.path.join(os.environ['GLEAMS_HOME'], 'data', 'embed',\n",
    "                 f'embed_{config.massivekb_task_id}_{split}.npy'),\n",
    "    os.path.join(os.environ['GLEAMS_HOME'], 'data', 'embed',\n",
    "                 f'embed_{config.massivekb_task_id}_{split}.parquet'))"
   ]
  },
  {
   "cell_type": "code",
   "execution_count": null,
   "metadata": {},
   "outputs": [],
   "source": [
    "metadata = (\n",
    "    pd.merge(\n",
    "        pd.read_parquet(os.path.join(\n",
    "            os.environ['GLEAMS_HOME'], 'data', 'cluster',\n",
    "            f'embed_{config.massivekb_task_id}_{split}.parquet'))\n",
    "        [['dataset', 'filename', 'scan']],\n",
    "        pd.read_parquet(\n",
    "            os.path.join(\n",
    "                os.environ['GLEAMS_HOME'], 'data', 'metadata',\n",
    "                f'massivekb_ids_{config.massivekb_task_id}.parquet')),\n",
    "        'left', ['dataset', 'filename', 'scan'], copy=False)\n",
    "    .dropna(subset=['sequence']))\n",
    "# Don't disambiguate between I/L.\n",
    "metadata['sequence'] = metadata['sequence'].str.replace('I', 'L')"
   ]
  },
  {
   "cell_type": "code",
   "execution_count": null,
   "metadata": {},
   "outputs": [],
   "source": [
    "num_samples = min(10_000_000, len(metadata))\n",
    "idx_sample = np.random.choice(metadata.index, num_samples, False)\n",
    "metadata = metadata.loc[idx_sample]"
   ]
  },
  {
   "cell_type": "code",
   "execution_count": null,
   "metadata": {},
   "outputs": [],
   "source": [
    "pairwise_distances = ss.load_npz(os.path.join(\n",
    "    os.environ['GLEAMS_HOME'], 'data', 'cluster',\n",
    "    f'dist_{config.massivekb_task_id}_{split}.npz'))\n",
    "pairwise_distances = pairwise_distances[metadata.index][:, metadata.index]\n",
    "logger.info('Using %d non-zero pairwise distances between %d randomly '\n",
    "            'selected embeddings', pairwise_distances.count_nonzero(),\n",
    "            len(metadata))"
   ]
  },
  {
   "cell_type": "code",
   "execution_count": null,
   "metadata": {},
   "outputs": [],
   "source": [
    "logger.info('Verify whether neighbors have the same peptide label')\n",
    "rows, columns, dist = ss.find(pairwise_distances)\n",
    "sequences = ((metadata['sequence'] + '/' + metadata['charge'].astype(str))\n",
    "             .reset_index(drop=True))\n",
    "same_label = (sequences.loc[rows].reset_index(drop=True) ==\n",
    "              sequences.loc[columns].reset_index(drop=True))\n",
    "order = np.argsort(dist)\n",
    "dist = np.asarray(dist)[order]\n",
    "same_label = np.asarray(same_label)[order]\n",
    "prop_same_label = np.cumsum(same_label) / np.arange(1, len(same_label) + 1)"
   ]
  },
  {
   "cell_type": "code",
   "execution_count": null,
   "metadata": {},
   "outputs": [],
   "source": [
    "sequences_no_mod = (metadata['sequence'].apply(_remove_mod) + '/' +\n",
    "                    metadata['charge'].astype(str)).reset_index(drop=True)\n",
    "same_label_no_mod = (sequences_no_mod.loc[rows].reset_index(drop=True) ==\n",
    "                     sequences_no_mod.loc[columns].reset_index(drop=True))\n",
    "same_label_no_mod = np.asarray(same_label_no_mod)[order]\n",
    "prop_same_label_no_mod = (np.cumsum(same_label_no_mod) /\n",
    "                          np.arange(1, len(same_label_no_mod) + 1))"
   ]
  },
  {
   "cell_type": "code",
   "execution_count": null,
   "metadata": {},
   "outputs": [],
   "source": [
    "same_label_isobar = []\n",
    "for seq1, seq2 in zip(sequences_no_mod.loc[rows],\n",
    "                      sequences_no_mod.loc[columns]):\n",
    "    if len(seq1) != len(seq2):\n",
    "        same_label_isobar.append(False)\n",
    "    else:\n",
    "        diff_pos = [''.join(sorted([seq1[i], seq2[i]]))\n",
    "                    for i in range(len(seq1)) if seq1[i] != seq2[i]]\n",
    "        if len(diff_pos) == 0:\n",
    "            same_label_isobar.append(True)\n",
    "        else:\n",
    "            same_label_isobar.append(all(pos in ('LN', 'DN', 'KQ', 'EK')\n",
    "                                         for pos in diff_pos))\n",
    "same_label_isobar = np.asarray(same_label_isobar)[order]\n",
    "prop_same_label_isobar = (np.cumsum(same_label_isobar) /\n",
    "                          np.arange(1, len(same_label_isobar) + 1))"
   ]
  },
  {
   "cell_type": "code",
   "execution_count": null,
   "metadata": {},
   "outputs": [],
   "source": [
    "joblib.dump([dist, prop_same_label, prop_same_label_no_mod,\n",
    "             prop_same_label_isobar], 'nn_dist.joblib')"
   ]
  },
  {
   "cell_type": "code",
   "execution_count": null,
   "metadata": {},
   "outputs": [],
   "source": [
    "# dist, prop_same_label, prop_same_label_no_mod, prop_same_label_isobar = \\\n",
    "#    joblib.load('nn_dist.joblib')"
   ]
  },
  {
   "cell_type": "code",
   "execution_count": null,
   "metadata": {},
   "outputs": [],
   "source": [
    "width = 7\n",
    "height = width / 1.618    # golden ratio\n",
    "fig, ax = plt.subplots(figsize=(width, height))\n",
    "\n",
    "max_dist = 0.2\n",
    "mask = dist < max_dist\n",
    "ax.plot(dist[mask], prop_same_label[mask], label='Original')\n",
    "ax.plot(dist[mask], prop_same_label_no_mod[mask], label='Unmodified')\n",
    "ax.plot(dist[mask], prop_same_label_isobar[mask], label='Near-isobaric')\n",
    "\n",
    "ax.set_xlim(0, max_dist)\n",
    "ax.set_ylim(0.95, 1)\n",
    "\n",
    "ax.yaxis.set_major_formatter(mticker.PercentFormatter(xmax=1, decimals=0))\n",
    "\n",
    "ax.legend(loc='lower left')\n",
    "\n",
    "ax.set_xlabel('Embedded distance')\n",
    "ax.set_ylabel('Proportion same peptide')\n",
    "\n",
    "sns.despine()\n",
    "\n",
    "plt.savefig('nn_dist.png', dpi=300, bbox_inches='tight')\n",
    "plt.show()\n",
    "plt.close()"
   ]
  },
  {
   "cell_type": "code",
   "execution_count": null,
   "metadata": {},
   "outputs": [],
   "source": [
    "logging.shutdown()"
   ]
  }
 ],
 "metadata": {
  "kernelspec": {
   "display_name": "Python 3",
   "language": "python",
   "name": "python3"
  },
  "language_info": {
   "codemirror_mode": {
    "name": "ipython",
    "version": 3
   },
   "file_extension": ".py",
   "mimetype": "text/x-python",
   "name": "python",
   "nbconvert_exporter": "python",
   "pygments_lexer": "ipython3",
   "version": "3.8.2"
  }
 },
 "nbformat": 4,
 "nbformat_minor": 2
}
